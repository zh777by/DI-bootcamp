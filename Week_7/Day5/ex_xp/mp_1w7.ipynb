{
 "cells": [
  {
   "cell_type": "code",
   "execution_count": 54,
   "metadata": {},
   "outputs": [],
   "source": [
    "from selenium import webdriver\n",
    "from selenium.webdriver.common.by import By\n",
    "from selenium.webdriver.support.ui import WebDriverWait\n",
    "from selenium.webdriver.support import expected_conditions as EC\n",
    "import chromedriver_autoinstaller\n",
    "\n",
    "# Setup for headless Chrome\n",
    "options = webdriver.ChromeOptions()\n",
    "options.add_argument('--headless')\n",
    "options.add_argument('--no-sandbox')\n",
    "options.add_argument('--disable-dev-shm-usage')\n",
    "\n",
    "# Initialize the driver\n",
    "driver = webdriver.Chrome(options=options)\n",
    "\n",
    "# Navigate to the webpage\n",
    "url = \"https://www.inmotionhosting.com/shared-hosting\"\n",
    "driver.get(url)"
   ]
  },
  {
   "cell_type": "code",
   "execution_count": null,
   "metadata": {},
   "outputs": [],
   "source": [
    "wait = WebDriverWait(driver, 10) ## wait for 10 seconds max \n",
    "wait.until(EC.visibility_of_element_located((By.CLASS_NAME, 'h3 imh-rostrum-card-title')))\n",
    "wait.until(EC.visibility_of_element_located((By.CLASS_NAME, 'imh-rostrum-save-ribbon')))\n",
    "wait.until(EC.visibility_of_element_located((By.CLASS_NAME, 'imh-rostrum-starting-at-price-discounted')))"
   ]
  },
  {
   "cell_type": "code",
   "execution_count": null,
   "metadata": {},
   "outputs": [],
   "source": [
    "plan_titles = driver.find_elements(By.CLASS_NAME, 'h3 imh-rostrum-card-title')\n",
    "plan_features = driver.find_elements(By.CLASS_NAME, 'imh-rostrum-save-ribbon')\n",
    "plan_costs = driver.find_elements(By.CLASS_NAME, 'imh-rostrum-starting-at-price-discounted')"
   ]
  },
  {
   "cell_type": "code",
   "execution_count": null,
   "metadata": {},
   "outputs": [],
   "source": [
    "data = []\n",
    "for plan_title, plan_feature, plan_cost in zip(plan_titles, plan_features, plan_costs):\n",
    "    plan_title_text = plan_title.find_element(By.CLASS_NAME, 'h3 imh-rostrum-card-title').text\n",
    "    plan_feature_text = plan_feature.find_element(By.CLASS_NAME, 'imh-rostrum-save-ribbon').text\n",
    "    plan_cost_text = plan_cost.find_element(By.CLASS_NAME, 'imh-rostrum-starting-at-price-discounted').text\n",
    "\n",
    "    data.append({'plan_title': plan_title_text, 'plan_feature': plan_feature_text, 'plan_cost': plan_cost_text})"
   ]
  },
  {
   "cell_type": "code",
   "execution_count": null,
   "metadata": {},
   "outputs": [],
   "source": [
    "driver.quit()"
   ]
  },
  {
   "cell_type": "code",
   "execution_count": null,
   "metadata": {},
   "outputs": [],
   "source": [
    "for entry in data:\n",
    "    print(entry)"
   ]
  }
 ],
 "metadata": {
  "kernelspec": {
   "display_name": "Python 3",
   "language": "python",
   "name": "python3"
  },
  "language_info": {
   "codemirror_mode": {
    "name": "ipython",
    "version": 3
   },
   "file_extension": ".py",
   "mimetype": "text/x-python",
   "name": "python",
   "nbconvert_exporter": "python",
   "pygments_lexer": "ipython3",
   "version": "3.12.0"
  }
 },
 "nbformat": 4,
 "nbformat_minor": 2
}
