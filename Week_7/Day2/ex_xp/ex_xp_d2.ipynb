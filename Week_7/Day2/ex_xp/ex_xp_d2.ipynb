{
  "cells": [
    {
      "cell_type": "code",
      "execution_count": 12,
      "metadata": {
        "id": "AcrQCAOR3gmM"
      },
      "outputs": [],
      "source": [
        "import pandas as pd\n",
        "import numpy as np"
      ]
    },
    {
      "cell_type": "code",
      "execution_count": 7,
      "metadata": {
        "colab": {
          "base_uri": "https://localhost:8080/"
        },
        "id": "UHAbsrT13jj5",
        "outputId": "282162e4-d55d-412d-a2c9-d2ecd8ad427f"
      },
      "outputs": [
        {
          "name": "stdout",
          "output_type": "stream",
          "text": [
            "[[1 2 3]\n",
            " [3 4 5]\n",
            " [5 6 7]]\n",
            "Inverse to 3x3:\n",
            " [[1 3 5]\n",
            " [2 4 6]\n",
            " [3 5 7]]\n"
          ]
        }
      ],
      "source": [
        "matrix_3x3 = np.array([[1, 2, 3], [3, 4, 5], [5, 6, 7]])\n",
        "print(matrix_3x3)\n",
        "inverse_martrix = matrix_3x3.T\n",
        "print(\"Inverse to 3x3:\\n\", inverse_martrix)"
      ]
    },
    {
      "cell_type": "code",
      "execution_count": 9,
      "metadata": {
        "colab": {
          "base_uri": "https://localhost:8080/"
        },
        "id": "RCvS_Q1S48aC",
        "outputId": "dd325def-b465-43b5-c06c-4a644b8b0ce4"
      },
      "outputs": [
        {
          "name": "stdout",
          "output_type": "stream",
          "text": [
            "Random Numbers: [0.62917144 0.14317987 0.38967604 0.30099388 0.28449038 0.75446404\n",
            " 0.37308464 0.67299887 0.85815591 0.88091723 0.44641293 0.88219398\n",
            " 0.49002919 0.13191107 0.338218   0.51603259 0.87782122 0.61550968\n",
            " 0.79878501 0.69993025 0.12967704 0.22392696 0.64193535 0.19615554\n",
            " 0.80682126 0.38366144 0.9738537  0.18753202 0.37125503 0.93365377\n",
            " 0.26347806 0.71771163 0.40097436 0.34399842 0.08468105 0.01509156\n",
            " 0.34518261 0.5455564  0.13687528 0.91929593 0.40906314 0.86995086\n",
            " 0.47813269 0.64883462 0.05014035 0.56544721 0.56949188 0.4264598\n",
            " 0.70109114 0.27484643]\n",
            "Mean: 0.49397503538447185\n",
            "Median: 0.4622728091660363\n",
            "Standard Deviation: 0.2659241587906474\n"
          ]
        }
      ],
      "source": [
        "random_numbers = np.random.rand(50)\n",
        "\n",
        "mean_value = np.mean(random_numbers)\n",
        "median_value = np.median(random_numbers)\n",
        "std_deviation = np.std(random_numbers)\n",
        "\n",
        "print(\"Random Numbers:\", random_numbers)\n",
        "print(\"Mean:\", mean_value)\n",
        "print(\"Median:\", median_value)\n",
        "print(\"Standard Deviation:\", std_deviation)"
      ]
    },
    {
      "cell_type": "code",
      "execution_count": 11,
      "metadata": {
        "colab": {
          "base_uri": "https://localhost:8080/"
        },
        "id": "l9lhRXa56n-w",
        "outputId": "feddf782-f52c-4538-f832-f80f18b17f53"
      },
      "outputs": [
        {
          "name": "stdout",
          "output_type": "stream",
          "text": [
            "Formatted Dates (YYYY/MM/DD):\n",
            "['2023-01-01' '2023-01-02' '2023-01-03' '2023-01-04' '2023-01-05'\n",
            " '2023-01-06' '2023-01-07' '2023-01-08' '2023-01-09' '2023-01-10'\n",
            " '2023-01-11' '2023-01-12' '2023-01-13' '2023-01-14' '2023-01-15'\n",
            " '2023-01-16' '2023-01-17' '2023-01-18' '2023-01-19' '2023-01-20'\n",
            " '2023-01-21' '2023-01-22' '2023-01-23' '2023-01-24' '2023-01-25'\n",
            " '2023-01-26' '2023-01-27' '2023-01-28' '2023-01-29' '2023-01-30'\n",
            " '2023-01-31']\n"
          ]
        }
      ],
      "source": [
        "start_date = np.datetime64('2023-01-01')\n",
        "end_date = np.datetime64('2023-02-01')\n",
        "\n",
        "date_array = np.arange(start_date, end_date, dtype='datetime64[D]')\n",
        "formatted_dates = np.datetime_as_string(date_array, unit='D')\n",
        "\n",
        "print(\"Formatted Dates (YYYY/MM/DD):\")\n",
        "print(formatted_dates)"
      ]
    },
    {
      "cell_type": "code",
      "execution_count": 34,
      "metadata": {
        "colab": {
          "base_uri": "https://localhost:8080/"
        },
        "id": "W6vxT9Xx7RO7",
        "outputId": "96d9ec44-abe3-4763-8926-f04e0b0e2468"
      },
      "outputs": [
        {
          "name": "stdout",
          "output_type": "stream",
          "text": [
            "    Column1   Column2   Column3\n",
            "0  0.945967  0.496179  0.588654\n",
            "1  0.723463  0.006799  0.301069\n",
            "2  0.966584  0.466013  0.431147\n",
            "3  0.877052  0.966932  0.424559\n",
            "4  0.887594  0.018075  0.357837\n",
            "5  0.605614  0.010958  0.439150\n",
            "6  0.127528  0.270958  0.354172\n",
            "7  0.254245  0.150937  0.140529\n",
            "8  0.168162  0.016225  0.540350\n",
            "9  0.891062  0.602073  0.117730\n",
            "    Column1   Column2   Column3\n",
            "0  0.945967  0.496179  0.588654\n",
            "1  0.723463  0.006799  0.301069\n",
            "2  0.966584  0.466013  0.431147\n",
            "3  0.877052  0.966932  0.424559\n",
            "4  0.887594  0.018075  0.357837\n",
            "5  0.605614  0.010958  0.439150\n",
            "9  0.891062  0.602073  0.117730\n",
            "\n",
            "Sum of Each Column:\n",
            "Column1    6.447271\n",
            "Column2    3.005148\n",
            "Column3    3.695198\n",
            "dtype: float64\n",
            "\n",
            "Average of Each Column:\n",
            "Column1    0.644727\n",
            "Column2    0.300515\n",
            "Column3    0.369520\n",
            "dtype: float64\n",
            "\n",
            "Sum of Each Row:\n",
            "0    2.030800\n",
            "1    1.031331\n",
            "2    1.863744\n",
            "3    2.268543\n",
            "4    1.263505\n",
            "5    1.055723\n",
            "6    0.752657\n",
            "7    0.545711\n",
            "8    0.724737\n",
            "9    1.610865\n",
            "dtype: float64\n",
            "\n",
            "Average of Each Row:\n",
            "0    0.676933\n",
            "1    0.343777\n",
            "2    0.621248\n",
            "3    0.756181\n",
            "4    0.421168\n",
            "5    0.351908\n",
            "6    0.250886\n",
            "7    0.181904\n",
            "8    0.241579\n",
            "9    0.536955\n",
            "dtype: float64\n"
          ]
        }
      ],
      "source": [
        "data = np.random.rand(10, 3)\n",
        "columns = ['Column1', 'Column2', 'Column3']\n",
        "df = pd.DataFrame(data, columns=columns)\n",
        "print(df)\n",
        "\n",
        "conditional_selection = df[df['Column1'] > 0.5]\n",
        "print(conditional_selection)\n",
        "\n",
        "sum = df.sum()\n",
        "average = df.mean()\n",
        "\n",
        "row1_sum = df.sum(axis=1)\n",
        "row1_average = df.mean(axis=1)\n",
        "\n",
        "print(\"\\nSum of Each Column:\")\n",
        "print(sum)\n",
        "print(\"\\nAverage of Each Column:\")\n",
        "print(average)\n",
        "print(\"\\nSum of Each Row:\")\n",
        "print(row1_sum)\n",
        "print(\"\\nAverage of Each Row:\")\n",
        "print(row1_average)"
      ]
    },
    {
      "cell_type": "code",
      "execution_count": 42,
      "metadata": {
        "colab": {
          "base_uri": "https://localhost:8080/"
        },
        "id": "_pHvRSq5GSur",
        "outputId": "d4e4637f-0806-4506-b41a-7b5ada1b8c80"
      },
      "outputs": [
        {
          "name": "stdout",
          "output_type": "stream",
          "text": [
            "t-statistic: -7.9795649137297895\n",
            "p-value: 8.437982572194322e-09\n",
            "Reject the null hypothesis. There is a significant increase in productivity.\n"
          ]
        }
      ],
      "source": [
        "from scipy import stats\n",
        "\n",
        "# Productivity scores of employees before the training program\n",
        "productivity_before = np.random.normal(loc=50, scale=10, size=30)\n",
        "\n",
        "# Productivity scores of the same employees after the training program\n",
        "productivity_after = productivity_before + np.random.normal(loc=5, scale=3, size=30)\n",
        "\n",
        "# Your task is to formulate a hypothesis regarding the training program's effectiveness\n",
        "# and test it using basic statistical functions in NumPy.\n",
        "\n",
        "\n",
        "t_statistic, p_value = stats.ttest_rel(productivity_before, productivity_after)\n",
        "\n",
        "print(\"t-statistic:\", t_statistic)\n",
        "print(\"p-value:\", p_value)\n",
        "\n",
        "alpha = 0.05\n",
        "if p_value < alpha:\n",
        "    print(\"Reject the null hypothesis. There is a significant increase in productivity.\")\n",
        "else:\n",
        "    print(\"Fail to reject the null hypothesis. There is no significant difference in productivity.\")"
      ]
    },
    {
      "cell_type": "code",
      "execution_count": 43,
      "metadata": {
        "colab": {
          "base_uri": "https://localhost:8080/"
        },
        "id": "_T_TRhavHR-J",
        "outputId": "c3053f61-38f4-408b-a30f-8c6c9a0f12c7"
      },
      "outputs": [
        {
          "name": "stdout",
          "output_type": "stream",
          "text": [
            "[ True  True False  True  True]\n"
          ]
        }
      ],
      "source": [
        "array1 = np.array([3, 7, 2, 10, 5])\n",
        "array2 = np.array([2, 6, 4, 8, 3])\n",
        "\n",
        "print(array1 > array2)"
      ]
    },
    {
      "cell_type": "code",
      "execution_count": 46,
      "metadata": {
        "colab": {
          "base_uri": "https://localhost:8080/"
        },
        "id": "harct_iGKEKL",
        "outputId": "0f1d5fb7-50af-43b9-856a-5bbc445df6ce"
      },
      "outputs": [
        {
          "name": "stdout",
          "output_type": "stream",
          "text": [
            "January to March:\n",
            "2023-01-01   -0.765646\n",
            "2023-01-02   -0.790158\n",
            "2023-01-03    0.913137\n",
            "2023-01-04   -0.133853\n",
            "2023-01-05   -0.058204\n",
            "Freq: D, dtype: float64\n",
            "\n",
            "April to June:\n",
            "2023-04-01   -0.374165\n",
            "2023-04-02    0.740018\n",
            "2023-04-03   -1.305289\n",
            "2023-04-04   -0.675384\n",
            "2023-04-05   -0.101473\n",
            "Freq: D, dtype: float64\n",
            "\n",
            "July to September:\n",
            "2023-07-01   -1.166271\n",
            "2023-07-02    0.296380\n",
            "2023-07-03    0.161968\n",
            "2023-07-04    0.591566\n",
            "2023-07-05   -1.013434\n",
            "Freq: D, dtype: float64\n",
            "\n",
            "October to December:\n",
            "2023-10-01   -0.577281\n",
            "2023-10-02   -0.105371\n",
            "2023-10-03    0.304579\n",
            "2023-10-04   -0.696603\n",
            "2023-10-05    0.952775\n",
            "Freq: D, dtype: float64\n"
          ]
        }
      ],
      "source": [
        "import numpy as np\n",
        "import pandas as pd\n",
        "import datetime\n",
        "\n",
        "start_date = datetime.datetime(2023, 1, 1)\n",
        "end_date = datetime.datetime(2023, 12, 31)\n",
        "date_rng = pd.date_range(start=start_date, end=end_date, freq='D')\n",
        "time_series_data = pd.Series(np.random.randn(len(date_rng)), index=date_rng)\n",
        "\n",
        "jan_to_mar = time_series_data['2023-01-01':'2023-03-31']\n",
        "apr_to_jun = time_series_data['2023-04-01':'2023-06-30']\n",
        "jul_to_sep = time_series_data['2023-07-01':'2023-09-30']\n",
        "oct_to_dec = time_series_data['2023-10-01':'2023-12-31']\n",
        "\n",
        "print(\"January to March:\")\n",
        "print(jan_to_mar.head())\n",
        "\n",
        "print(\"\\nApril to June:\")\n",
        "print(apr_to_jun.head())\n",
        "\n",
        "print(\"\\nJuly to September:\")\n",
        "print(jul_to_sep.head())\n",
        "\n",
        "print(\"\\nOctober to December:\")\n",
        "print(oct_to_dec.head())\n"
      ]
    },
    {
      "cell_type": "code",
      "execution_count": 50,
      "metadata": {
        "colab": {
          "base_uri": "https://localhost:8080/"
        },
        "id": "p79SyaBYKyWw",
        "outputId": "e5a4cd7d-5705-4301-b5bd-4fb56e94164c"
      },
      "outputs": [
        {
          "name": "stdout",
          "output_type": "stream",
          "text": [
            "Pandas DataFrame from NumPy array:\n",
            "   A  B  C\n",
            "0  1  2  3\n",
            "1  4  5  6\n",
            "2  7  8  9\n",
            "\n",
            "NumPy array from Pandas DataFrame:\n",
            "[[1 2 3]\n",
            " [4 5 6]\n",
            " [7 8 9]]\n"
          ]
        }
      ],
      "source": [
        "numpy_array = np.array([[1, 2, 3], [4, 5, 6], [7, 8, 9]])\n",
        "\n",
        "dataframe_from_numpy = pd.DataFrame(numpy_array, columns=['A', 'B', 'C'])\n",
        "\n",
        "print(\"Pandas DataFrame from NumPy array:\")\n",
        "print(dataframe_from_numpy)\n",
        "\n",
        "data = {'A': [1, 4, 7], 'B': [2, 5, 8], 'C': [3, 6, 9]}\n",
        "dataframe = pd.DataFrame(data)\n",
        "\n",
        "numpy_array_from_dataframe = dataframe.to_numpy()\n",
        "\n",
        "print(\"\\nNumPy array from Pandas DataFrame:\")\n",
        "print(numpy_array_from_dataframe)"
      ]
    },
    {
      "cell_type": "code",
      "execution_count": 54,
      "metadata": {
        "colab": {
          "base_uri": "https://localhost:8080/",
          "height": 472
        },
        "id": "Aif-Lnn9LY-U",
        "outputId": "93a7e38b-b7d6-43e7-8872-3f007365b461"
      },
      "outputs": [
        {
          "data": {
            "image/png": "[encoded data removed]",
            "text/plain": [
              "<Figure size 640x480 with 1 Axes>"
            ]
          },
          "metadata": {},
          "output_type": "display_data"
        }
      ],
      "source": [
        "import matplotlib.pyplot as plt\n",
        "\n",
        "x = np.linspace(0, 10, 100)\n",
        "y = np.random.randn(100)\n",
        "\n",
        "plt.plot(x, y, label='Random Numbers')\n",
        "\n",
        "plt.xlabel('X-axis')\n",
        "plt.ylabel('Y-axis')\n",
        "plt.title('Line Graph of Random Numbers')\n",
        "plt.legend()\n",
        "\n",
        "plt.show()"
      ]
    },
    {
      "cell_type": "code",
      "execution_count": null,
      "metadata": {
        "id": "wFdST7WVLxhZ"
      },
      "outputs": [],
      "source": []
    }
  ],
  "metadata": {
    "colab": {
      "provenance": []
    },
    "kernelspec": {
      "display_name": "Python 3",
      "name": "python3"
    },
    "language_info": {
      "codemirror_mode": {
        "name": "ipython",
        "version": 3
      },
      "file_extension": ".py",
      "mimetype": "text/x-python",
      "name": "python",
      "nbconvert_exporter": "python",
      "pygments_lexer": "ipython3",
      "version": "3.12.0"
    }
  },
  "nbformat": 4,
  "nbformat_minor": 0
}
