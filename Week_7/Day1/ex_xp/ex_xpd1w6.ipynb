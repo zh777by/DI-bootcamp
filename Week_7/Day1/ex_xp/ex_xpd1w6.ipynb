{
  "nbformat": 4,
  "nbformat_minor": 0,
  "metadata": {
    "colab": {
      "provenance": []
    },
    "kernelspec": {
      "name": "python3",
      "display_name": "Python 3"
    },
    "language_info": {
      "name": "python"
    }
  },
  "cells": [
    {
      "cell_type": "code",
      "execution_count": 6,
      "metadata": {
        "id": "PA937yb_e2zf"
      },
      "outputs": [],
      "source": [
        "import numpy as np"
      ]
    },
    {
      "cell_type": "code",
      "source": [
        "array = [0, 1, 2, 3, 4, 5, 6, 7, 8, 9]\n",
        "array_1d = np.array(array)\n",
        "print('array', array_1d)"
      ],
      "metadata": {
        "colab": {
          "base_uri": "https://localhost:8080/"
        },
        "id": "M1yh9AbefEiM",
        "outputId": "6d9a9396-b0d8-400d-c654-01e649b00f21"
      },
      "execution_count": 39,
      "outputs": [
        {
          "output_type": "stream",
          "name": "stdout",
          "text": [
            "array [0 1 2 3 4 5 6 7 8 9]\n"
          ]
        }
      ]
    },
    {
      "cell_type": "code",
      "source": [
        "original_list = [3.14, 2.17, 0, 1, 2]\n",
        "\n",
        "numpy_array = np.array(original_list)\n",
        "\n",
        "int_array = numpy_array.astype(int)\n",
        "\n",
        "print(\"Original List:\", original_list)\n",
        "print(\"NumPy Array:\", numpy_array)\n",
        "print(\"Integer Array:\", int_array)"
      ],
      "metadata": {
        "colab": {
          "base_uri": "https://localhost:8080/"
        },
        "id": "zMNHFtOHfUWa",
        "outputId": "4405c960-6bb2-437d-8b79-dbeded1ff8a8"
      },
      "execution_count": 41,
      "outputs": [
        {
          "output_type": "stream",
          "name": "stdout",
          "text": [
            "Original List: [3.14, 2.17, 0, 1, 2]\n",
            "NumPy Array: [3.14 2.17 0.   1.   2.  ]\n",
            "Integer Array: [3 2 0 1 2]\n"
          ]
        }
      ]
    },
    {
      "cell_type": "code",
      "source": [
        "numpy_3x3_array = np.array([[1,2,3], [4,5,6], [7,8,9]])\n",
        "print(numpy_3x3_array)"
      ],
      "metadata": {
        "colab": {
          "base_uri": "https://localhost:8080/"
        },
        "id": "rRq5F-ojgD_0",
        "outputId": "d62b0817-972b-4281-ae10-7f1b6dac8288"
      },
      "execution_count": 42,
      "outputs": [
        {
          "output_type": "stream",
          "name": "stdout",
          "text": [
            "[[1 2 3]\n",
            " [4 5 6]\n",
            " [7 8 9]]\n"
          ]
        }
      ]
    },
    {
      "cell_type": "code",
      "source": [
        "random_array = np.random.rand(4, 5)\n",
        "array_2d = np.round(random_array, 2)\n",
        "\n",
        "print(array_2d)"
      ],
      "metadata": {
        "colab": {
          "base_uri": "https://localhost:8080/"
        },
        "id": "q6cf6HDsnHsy",
        "outputId": "65d5f744-174b-424e-a4f1-62dd06d66af4"
      },
      "execution_count": 43,
      "outputs": [
        {
          "output_type": "stream",
          "name": "stdout",
          "text": [
            "[[0.01 0.76 0.55 0.97 0.15]\n",
            " [0.35 0.28 0.05 0.74 0.87]\n",
            " [0.38 0.08 0.96 0.36 0.03]\n",
            " [0.82 0.47 0.79 0.01 0.93]]\n"
          ]
        }
      ]
    },
    {
      "cell_type": "code",
      "source": [
        "second_row = array_2d[1, :]\n",
        "print(second_row)"
      ],
      "metadata": {
        "colab": {
          "base_uri": "https://localhost:8080/"
        },
        "id": "sDQOSbt5pZnf",
        "outputId": "f37629a8-09a9-4266-9184-77184ba81fff"
      },
      "execution_count": 44,
      "outputs": [
        {
          "output_type": "stream",
          "name": "stdout",
          "text": [
            "[0.35 0.28 0.05 0.74 0.87]\n"
          ]
        }
      ]
    },
    {
      "cell_type": "code",
      "source": [
        "reversed = array[::1]\n",
        "print(reversed)"
      ],
      "metadata": {
        "colab": {
          "base_uri": "https://localhost:8080/"
        },
        "id": "PTEdrK8X3Mlr",
        "outputId": "258537ba-ce17-4966-ddfd-4c80d1903c08"
      },
      "execution_count": 45,
      "outputs": [
        {
          "output_type": "stream",
          "name": "stdout",
          "text": [
            "[0, 1, 2, 3, 4, 5, 6, 7, 8, 9]\n"
          ]
        }
      ]
    },
    {
      "cell_type": "code",
      "source": [
        "numpy_4x4_array = np.array([[1,0,0,0], [0,1,0,0], [0,0,1,0], [0,0,0,1]])\n",
        "print(numpy_4x4_array)"
      ],
      "metadata": {
        "colab": {
          "base_uri": "https://localhost:8080/"
        },
        "id": "wBGkKcDk4E_e",
        "outputId": "3aff62bc-c162-468a-e880-b5d1ecf4c170"
      },
      "execution_count": 46,
      "outputs": [
        {
          "output_type": "stream",
          "name": "stdout",
          "text": [
            "[[1 0 0 0]\n",
            " [0 1 0 0]\n",
            " [0 0 1 0]\n",
            " [0 0 0 1]]\n"
          ]
        }
      ]
    },
    {
      "cell_type": "code",
      "source": [
        "print(\"Sum:\", np.sum(array))\n",
        "print(\"Mean:\", np.mean(array))"
      ],
      "metadata": {
        "colab": {
          "base_uri": "https://localhost:8080/"
        },
        "id": "vpOvNUUV4pMS",
        "outputId": "5086ec85-fdf5-4de9-974d-64d94b462b49"
      },
      "execution_count": 47,
      "outputs": [
        {
          "output_type": "stream",
          "name": "stdout",
          "text": [
            "Sum: 45\n",
            "Mean: 4.5\n"
          ]
        }
      ]
    },
    {
      "cell_type": "code",
      "source": [
        "array_2 = np.arange(1, 21).reshape((4,5))\n",
        "print(array_2)"
      ],
      "metadata": {
        "colab": {
          "base_uri": "https://localhost:8080/"
        },
        "id": "l-NSm-rI5B1i",
        "outputId": "da871848-9694-4d4f-85a8-0ea47760ece8"
      },
      "execution_count": 48,
      "outputs": [
        {
          "output_type": "stream",
          "name": "stdout",
          "text": [
            "[[ 1  2  3  4  5]\n",
            " [ 6  7  8  9 10]\n",
            " [11 12 13 14 15]\n",
            " [16 17 18 19 20]]\n"
          ]
        }
      ]
    },
    {
      "cell_type": "code",
      "source": [
        "odd_num = array_1d[array_1d % 2 != 0]\n",
        "print(odd_num)"
      ],
      "metadata": {
        "colab": {
          "base_uri": "https://localhost:8080/"
        },
        "id": "n1VE8X2d5dAb",
        "outputId": "9791a344-6f55-48b6-eed0-802b486fff57"
      },
      "execution_count": 49,
      "outputs": [
        {
          "output_type": "stream",
          "name": "stdout",
          "text": [
            "[1 3 5 7 9]\n"
          ]
        }
      ]
    },
    {
      "cell_type": "code",
      "source": [],
      "metadata": {
        "id": "brdkhB_A6HEJ"
      },
      "execution_count": null,
      "outputs": []
    }
  ]
}