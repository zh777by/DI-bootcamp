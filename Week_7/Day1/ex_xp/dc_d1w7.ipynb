{
  "nbformat": 4,
  "nbformat_minor": 0,
  "metadata": {
    "colab": {
      "provenance": []
    },
    "kernelspec": {
      "name": "python3",
      "display_name": "Python 3"
    },
    "language_info": {
      "name": "python"
    }
  },
  "cells": [
    {
      "cell_type": "code",
      "source": [
        "from bs4 import BeautifulSoup\n",
        "\n",
        "import requests\n",
        "response = requests.get(\"https://github.com/topics\")\n",
        "print(response.text[:100])\n",
        "websoup = BeautifulSoup(response.text, 'html.parser')"
      ],
      "metadata": {
        "id": "Tzk2xyQI9M8X",
        "colab": {
          "base_uri": "https://localhost:8080/"
        },
        "outputId": "49e5b353-2dc9-404c-d18a-c4782fe7f3a3"
      },
      "execution_count": null,
      "outputs": [
        {
          "output_type": "stream",
          "name": "stdout",
          "text": [
            "\n",
            "\n",
            "<!DOCTYPE html>\n",
            "<html\n",
            "  lang=\"en\"\n",
            "  \n",
            "  data-color-mode=\"auto\" data-light-theme=\"light\" data-dark-t\n",
            "\n",
            "\n",
            "<!DOCTYPE html>\n",
            "<html\n",
            "  lang=\"en\"\n",
            "  \n",
            "  data-color-mode=\"auto\" data-light-theme=\"light\" data-dark-t\n"
          ]
        }
      ]
    },
    {
      "cell_type": "code",
      "source": [
        "print(websoup.prettify())"
      ],
      "metadata": {
        "id": "IVoq_d6OCcZt"
      },
      "execution_count": null,
      "outputs": []
    },
    {
      "cell_type": "code",
      "source": [
        "from urllib.request import urlopen\n",
        "from bs4 import BeautifulSoup\n",
        "\n",
        "url = 'https://github.com/topics'\n",
        "response = requests.get(url)\n",
        "response.status_code\n",
        "# print(f\"Status Code: {status_code}\")\n",
        "\n",
        "content = response.text\n",
        "with open('webpage.html', 'w', encoding='utf-8') as f:\n",
        "  f.write (content)"
      ],
      "metadata": {
        "id": "it5sIpoT51TA"
      },
      "execution_count": null,
      "outputs": []
    },
    {
      "cell_type": "code",
      "source": [
        "url = 'https://github.com/topics'\n",
        "response = urlopen(url)\n",
        "\n",
        "html_ocean_ws = response.read()\n",
        "\n",
        "print(html_ocean_ws[:100])"
      ],
      "metadata": {
        "id": "3f1rXkcK9jly",
        "colab": {
          "base_uri": "https://localhost:8080/"
        },
        "outputId": "3f3f203f-1ee2-40c5-bc33-f3ede6278ae3"
      },
      "execution_count": null,
      "outputs": [
        {
          "output_type": "stream",
          "name": "stdout",
          "text": [
            "b'\\n\\n<!DOCTYPE html>\\n<html\\n  lang=\"en\"\\n  \\n  data-color-mode=\"auto\" data-light-theme=\"light\" data-dark-t'\n"
          ]
        }
      ]
    },
    {
      "cell_type": "code",
      "source": [
        "websoup.title"
      ],
      "metadata": {
        "colab": {
          "base_uri": "https://localhost:8080/"
        },
        "id": "7x0glClIBPjD",
        "outputId": "9fe0b7bc-e8ae-4728-ebfe-f2157562bd3e"
      },
      "execution_count": null,
      "outputs": [
        {
          "output_type": "execute_result",
          "data": {
            "text/plain": [
              "<title>Topics on GitHub · GitHub</title>"
            ]
          },
          "metadata": {},
          "execution_count": 11
        }
      ]
    },
    {
      "cell_type": "code",
      "source": [
        "print(websoup.title.get_text())"
      ],
      "metadata": {
        "colab": {
          "base_uri": "https://localhost:8080/"
        },
        "id": "X3BrfJycDJ6A",
        "outputId": "4ca2769b-9418-4eba-ab73-62e4902b881e"
      },
      "execution_count": null,
      "outputs": [
        {
          "output_type": "stream",
          "name": "stdout",
          "text": [
            "Topics on GitHub · GitHub\n"
          ]
        }
      ]
    }
  ]
}