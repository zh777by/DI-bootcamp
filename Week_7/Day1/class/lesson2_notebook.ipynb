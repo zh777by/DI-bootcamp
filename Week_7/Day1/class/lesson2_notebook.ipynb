{
  "cells": [
    {
      "cell_type": "code",
      "execution_count": 29,
      "metadata": {
        "id": "SpBiCZWUhQSk"
      },
      "outputs": [],
      "source": [
        "from bs4 import BeautifulSoup\n",
        "html = \"\"\"\n",
        "    <html>\n",
        "     <head>\n",
        "         <title>2020 Oscar nominees and winners</title>\n",
        "     </head>\n",
        "     <body>\n",
        "         <h1 id=\"oscar_title\">Oscars 2020</h1>\n",
        "         <p>The biggest cinema awards ceremony took place in February. This year's highlights were:</p>\n",
        "         <ul class=\"highlights\">\n",
        "             <li>Joker</li>\n",
        "             <li>1917</li>\n",
        "             <li>Once Upon a Time in Hollywood</li>\n",
        "             <li>The Irishman</li>\n",
        "         </ul>\n",
        "         <p>See the winners of 3 categories below.</p>\n",
        "         <div>\n",
        "             <div class=\"best-film-category\">\n",
        "                 <h2>Category: best film</h2>\n",
        "                 <ul>\n",
        "                     <li>Ford vs Ferrari</li>\n",
        "                     <li>The Irishman</li>\n",
        "                     <li>JoJo Rabbit</li>\n",
        "                     <li>Joker</li>\n",
        "                     <li>Little Women</li>\n",
        "                     <li>Marriage Story</li>\n",
        "                     <li>1917</li>\n",
        "                     <li>Once Upon a Time in Hollywood</li>\n",
        "                     <li class=\"winner\">Parasite <strong>[WINNER]</strong></li>\n",
        "                 </ul>\n",
        "             </div>\n",
        "             <br>\n",
        "             <div class=\"best-actor-category\">\n",
        "                 <h2>Category: best actor</h2>\n",
        "                 <ul>\n",
        "                     <li>Antonio Banderas - Pain and Glory</li>\n",
        "                     <li>Leonardo DiCaprio - Once Upon a Time In... Hollywood</li>\n",
        "                     <li>Adam Driver - Marriage Story</li>\n",
        "                     <li class=\"winner\">Joaquin Phoenix - Joker <strong>[WINNER]</strong></li>\n",
        "                     <li>Jonathan Price - The Two Popes</li>\n",
        "                 </ul>\n",
        "             </div>\n",
        "             <br>\n",
        "             <div class=\"best-actress-category\">\n",
        "                 <h2>Category: best actress</h2>\n",
        "                 <ul>\n",
        "                     <li>Cythia Erivo - Harriet</li>\n",
        "                     <li>Scarlett Johansson - Marriage Story</li>\n",
        "                     <li>Saoirse Ronan - Little Women</li>\n",
        "                     <li>Charlize Theron - The Scandal</li>\n",
        "                     <li class=\"winner\">Renée Zellweger - Judy: Far Over the Rainbow <strong>[WINNER]</strong></li>\n",
        "                 </ul>\n",
        "             </div>\n",
        "         </div>\n",
        "     </body>\n",
        "</html>\"\"\""
      ]
    },
    {
      "cell_type": "code",
      "execution_count": 30,
      "metadata": {
        "id": "cc7juxCshQSn"
      },
      "outputs": [],
      "source": [
        "soup = BeautifulSoup(html, 'html.parser')"
      ]
    },
    {
      "cell_type": "code",
      "execution_count": 31,
      "metadata": {
        "colab": {
          "base_uri": "https://localhost:8080/"
        },
        "id": "vGIemv6LhQSo",
        "outputId": "aeec098c-4246-41de-df49-d46b2d8ec9ae"
      },
      "outputs": [
        {
          "name": "stdout",
          "output_type": "stream",
          "text": [
            "<html>\n",
            " <head>\n",
            "  <title>\n",
            "   2020 Oscar nominees and winners\n",
            "  </title>\n",
            " </head>\n",
            " <body>\n",
            "  <h1 id=\"oscar_title\">\n",
            "   Oscars 2020\n",
            "  </h1>\n",
            "  <p>\n",
            "   The biggest cinema awards ceremony took place in February. This year's highlights were:\n",
            "  </p>\n",
            "  <ul class=\"highlights\">\n",
            "   <li>\n",
            "    Joker\n",
            "   </li>\n",
            "   <li>\n",
            "    1917\n",
            "   </li>\n",
            "   <li>\n",
            "    Once Upon a Time in Hollywood\n",
            "   </li>\n",
            "   <li>\n",
            "    The Irishman\n",
            "   </li>\n",
            "  </ul>\n",
            "  <p>\n",
            "   See the winners of 3 categories below.\n",
            "  </p>\n",
            "  <div>\n",
            "   <div class=\"best-film-category\">\n",
            "    <h2>\n",
            "     Category: best film\n",
            "    </h2>\n",
            "    <ul>\n",
            "     <li>\n",
            "      Ford vs Ferrari\n",
            "     </li>\n",
            "     <li>\n",
            "      The Irishman\n",
            "     </li>\n",
            "     <li>\n",
            "      JoJo Rabbit\n",
            "     </li>\n",
            "     <li>\n",
            "      Joker\n",
            "     </li>\n",
            "     <li>\n",
            "      Little Women\n",
            "     </li>\n",
            "     <li>\n",
            "      Marriage Story\n",
            "     </li>\n",
            "     <li>\n",
            "      1917\n",
            "     </li>\n",
            "     <li>\n",
            "      Once Upon a Time in Hollywood\n",
            "     </li>\n",
            "     <li class=\"winner\">\n",
            "      Parasite\n",
            "      <strong>\n",
            "       [WINNER]\n",
            "      </strong>\n",
            "     </li>\n",
            "    </ul>\n",
            "   </div>\n",
            "   <br/>\n",
            "   <div class=\"best-actor-category\">\n",
            "    <h2>\n",
            "     Category: best actor\n",
            "    </h2>\n",
            "    <ul>\n",
            "     <li>\n",
            "      Antonio Banderas - Pain and Glory\n",
            "     </li>\n",
            "     <li>\n",
            "      Leonardo DiCaprio - Once Upon a Time In... Hollywood\n",
            "     </li>\n",
            "     <li>\n",
            "      Adam Driver - Marriage Story\n",
            "     </li>\n",
            "     <li class=\"winner\">\n",
            "      Joaquin Phoenix - Joker\n",
            "      <strong>\n",
            "       [WINNER]\n",
            "      </strong>\n",
            "     </li>\n",
            "     <li>\n",
            "      Jonathan Price - The Two Popes\n",
            "     </li>\n",
            "    </ul>\n",
            "   </div>\n",
            "   <br/>\n",
            "   <div class=\"best-actress-category\">\n",
            "    <h2>\n",
            "     Category: best actress\n",
            "    </h2>\n",
            "    <ul>\n",
            "     <li>\n",
            "      Cythia Erivo - Harriet\n",
            "     </li>\n",
            "     <li>\n",
            "      Scarlett Johansson - Marriage Story\n",
            "     </li>\n",
            "     <li>\n",
            "      Saoirse Ronan - Little Women\n",
            "     </li>\n",
            "     <li>\n",
            "      Charlize Theron - The Scandal\n",
            "     </li>\n",
            "     <li class=\"winner\">\n",
            "      Renée Zellweger - Judy: Far Over the Rainbow\n",
            "      <strong>\n",
            "       [WINNER]\n",
            "      </strong>\n",
            "     </li>\n",
            "    </ul>\n",
            "   </div>\n",
            "  </div>\n",
            " </body>\n",
            "</html>\n",
            "\n"
          ]
        }
      ],
      "source": [
        "print(soup.prettify())"
      ]
    },
    {
      "cell_type": "code",
      "execution_count": 32,
      "metadata": {
        "colab": {
          "base_uri": "https://localhost:8080/"
        },
        "id": "S3khxOL4hQSo",
        "outputId": "3b7e2259-ee6e-4a67-a15b-6e0789de6e22"
      },
      "outputs": [
        {
          "name": "stdout",
          "output_type": "stream",
          "text": [
            "<title>2020 Oscar nominees and winners</title>\n"
          ]
        }
      ],
      "source": [
        "print(soup.title)"
      ]
    },
    {
      "cell_type": "code",
      "execution_count": 33,
      "metadata": {
        "colab": {
          "base_uri": "https://localhost:8080/"
        },
        "id": "2CsiYCN-hQSp",
        "outputId": "6e7f838e-3eec-4007-beb0-d4c639f97ed7"
      },
      "outputs": [
        {
          "name": "stdout",
          "output_type": "stream",
          "text": [
            "2020 Oscar nominees and winners\n"
          ]
        }
      ],
      "source": [
        "print(soup.title.get_text())"
      ]
    },
    {
      "cell_type": "code",
      "execution_count": 34,
      "metadata": {
        "colab": {
          "base_uri": "https://localhost:8080/"
        },
        "id": "Wq-jxLANhQSp",
        "outputId": "e3be0f13-0baf-49a3-a645-8b7aae58a906"
      },
      "outputs": [
        {
          "name": "stdout",
          "output_type": "stream",
          "text": [
            "None\n"
          ]
        }
      ],
      "source": [
        "print(soup.h3)"
      ]
    },
    {
      "cell_type": "code",
      "execution_count": 35,
      "metadata": {
        "colab": {
          "base_uri": "https://localhost:8080/"
        },
        "id": "hAipz9NAhQSq",
        "outputId": "5185a894-1311-44eb-b518-80603addca77"
      },
      "outputs": [
        {
          "name": "stdout",
          "output_type": "stream",
          "text": [
            "<li>Joker</li>\n"
          ]
        }
      ],
      "source": [
        "print(soup.ul.li)"
      ]
    },
    {
      "cell_type": "code",
      "execution_count": 36,
      "metadata": {
        "id": "femeHXI5hQSq"
      },
      "outputs": [],
      "source": [
        "h2 = soup.find_all(\"h2\")"
      ]
    },
    {
      "cell_type": "code",
      "execution_count": 37,
      "metadata": {
        "colab": {
          "base_uri": "https://localhost:8080/"
        },
        "id": "ezMyhHQGhQSr",
        "outputId": "01efcad4-5a71-4501-c091-1c495e71762a"
      },
      "outputs": [
        {
          "data": {
            "text/plain": [
              "[<h2>Category: best film</h2>,\n",
              " <h2>Category: best actor</h2>,\n",
              " <h2>Category: best actress</h2>]"
            ]
          },
          "execution_count": 37,
          "metadata": {},
          "output_type": "execute_result"
        }
      ],
      "source": [
        "h2"
      ]
    },
    {
      "cell_type": "code",
      "execution_count": 38,
      "metadata": {
        "colab": {
          "base_uri": "https://localhost:8080/"
        },
        "id": "e2FCb8JQhQSr",
        "outputId": "48515b0d-15fe-4c02-9c14-f4d17ad87062"
      },
      "outputs": [
        {
          "data": {
            "text/plain": [
              "[<li>Joker</li>,\n",
              " <li>1917</li>,\n",
              " <li>Once Upon a Time in Hollywood</li>,\n",
              " <li>The Irishman</li>,\n",
              " <h2>Category: best film</h2>,\n",
              " <li>Ford vs Ferrari</li>,\n",
              " <li>The Irishman</li>,\n",
              " <li>JoJo Rabbit</li>,\n",
              " <li>Joker</li>,\n",
              " <li>Little Women</li>,\n",
              " <li>Marriage Story</li>,\n",
              " <li>1917</li>,\n",
              " <li>Once Upon a Time in Hollywood</li>,\n",
              " <li class=\"winner\">Parasite <strong>[WINNER]</strong></li>,\n",
              " <h2>Category: best actor</h2>,\n",
              " <li>Antonio Banderas - Pain and Glory</li>,\n",
              " <li>Leonardo DiCaprio - Once Upon a Time In... Hollywood</li>,\n",
              " <li>Adam Driver - Marriage Story</li>,\n",
              " <li class=\"winner\">Joaquin Phoenix - Joker <strong>[WINNER]</strong></li>,\n",
              " <li>Jonathan Price - The Two Popes</li>,\n",
              " <h2>Category: best actress</h2>,\n",
              " <li>Cythia Erivo - Harriet</li>,\n",
              " <li>Scarlett Johansson - Marriage Story</li>,\n",
              " <li>Saoirse Ronan - Little Women</li>,\n",
              " <li>Charlize Theron - The Scandal</li>,\n",
              " <li class=\"winner\">Renée Zellweger - Judy: Far Over the Rainbow <strong>[WINNER]</strong></li>]"
            ]
          },
          "execution_count": 38,
          "metadata": {},
          "output_type": "execute_result"
        }
      ],
      "source": [
        "soup.find_all([\"h2\", \"li\"])"
      ]
    },
    {
      "cell_type": "code",
      "execution_count": 39,
      "metadata": {
        "colab": {
          "base_uri": "https://localhost:8080/"
        },
        "id": "RdovlO_shQSs",
        "outputId": "cf2d2020-ff41-425f-e037-dd43a4a36e69"
      },
      "outputs": [
        {
          "name": "stderr",
          "output_type": "stream",
          "text": [
            "/var/folders/cc/txg44nl176v3xfyt08_33rm00000gn/T/ipykernel_18464/335918586.py:1: DeprecationWarning: The 'text' argument to find()-type methods is deprecated. Use 'string' instead.\n",
            "  soup.find_all('li', text=\"Scarlett Johansson - Marriage Story\")\n"
          ]
        },
        {
          "data": {
            "text/plain": [
              "[<li>Scarlett Johansson - Marriage Story</li>]"
            ]
          },
          "execution_count": 39,
          "metadata": {},
          "output_type": "execute_result"
        }
      ],
      "source": [
        "soup.find_all('li', text=\"Scarlett Johansson - Marriage Story\")"
      ]
    },
    {
      "cell_type": "code",
      "execution_count": 40,
      "metadata": {
        "colab": {
          "base_uri": "https://localhost:8080/"
        },
        "id": "n4eE3WmuhQSs",
        "outputId": "5a3ed51c-c9de-42c4-90a5-5f94aca1376c"
      },
      "outputs": [
        {
          "data": {
            "text/plain": [
              "[<li>Cythia Erivo - Harriet</li>,\n",
              " <li>Scarlett Johansson - Marriage Story</li>,\n",
              " <li>Saoirse Ronan - Little Women</li>,\n",
              " <li>Charlize Theron - The Scandal</li>,\n",
              " <li class=\"winner\">Renée Zellweger - Judy: Far Over the Rainbow <strong>[WINNER]</strong></li>]"
            ]
          },
          "execution_count": 40,
          "metadata": {},
          "output_type": "execute_result"
        }
      ],
      "source": [
        "soup.find_all(class_='best-actress-category')[0].find_all('li')"
      ]
    },
    {
      "cell_type": "code",
      "execution_count": 41,
      "metadata": {
        "colab": {
          "base_uri": "https://localhost:8080/"
        },
        "id": "4g6P6-1NhQSs",
        "outputId": "98a0c8fc-3b7c-4747-bebe-7db09ff4106d"
      },
      "outputs": [
        {
          "data": {
            "text/plain": [
              "<li>Cythia Erivo - Harriet</li>"
            ]
          },
          "execution_count": 41,
          "metadata": {},
          "output_type": "execute_result"
        }
      ],
      "source": [
        "first_actress = soup.find_all(class_='best-actress-category')[0].find_all('li')[0]\n",
        "first_actress"
      ]
    },
    {
      "cell_type": "code",
      "execution_count": 42,
      "metadata": {
        "colab": {
          "base_uri": "https://localhost:8080/",
          "height": 35
        },
        "id": "D7pPc2ldhQSs",
        "outputId": "0b85475e-85f3-4504-e6ac-274f7696de66"
      },
      "outputs": [
        {
          "data": {
            "text/plain": [
              "'li'"
            ]
          },
          "execution_count": 42,
          "metadata": {},
          "output_type": "execute_result"
        }
      ],
      "source": [
        "first_actress.name"
      ]
    },
    {
      "cell_type": "code",
      "execution_count": 43,
      "metadata": {
        "colab": {
          "base_uri": "https://localhost:8080/"
        },
        "id": "mN-K5JCzhQSt",
        "outputId": "7c8d2e4a-6128-4ff1-827e-0ae4c7cafbcd"
      },
      "outputs": [
        {
          "name": "stdout",
          "output_type": "stream",
          "text": [
            "<!doctype html>\n",
            "<html lang=\"en\">\n",
            "  <head>\n",
            "    <meta charset=\"utf-8\">\n",
            "    <title>Countries of the Wor\n"
          ]
        }
      ],
      "source": [
        "import requests\n",
        "response = requests.get(\"https://www.scrapethissite.com/pages/simple/\")\n",
        "print(response.text[:100])\n",
        "websoup = BeautifulSoup(response.text, 'html.parser')"
      ]
    },
    {
      "cell_type": "code",
      "execution_count": 44,
      "metadata": {
        "id": "0tDTLSZ-hQSt"
      },
      "outputs": [],
      "source": [
        "websoup = BeautifulSoup(response.text, 'html.parser')"
      ]
    },
    {
      "cell_type": "code",
      "execution_count": 45,
      "metadata": {
        "colab": {
          "base_uri": "https://localhost:8080/"
        },
        "id": "Q3l8yXM2hQSt",
        "outputId": "ff65dbdb-f2c0-4f43-8ad1-e19441717afa"
      },
      "outputs": [
        {
          "data": {
            "text/plain": [
              "<title>Countries of the World: A Simple Example | Scrape This Site | A public sandbox for learning web scraping</title>"
            ]
          },
          "execution_count": 45,
          "metadata": {},
          "output_type": "execute_result"
        }
      ],
      "source": [
        "websoup.title"
      ]
    },
    {
      "cell_type": "code",
      "execution_count": 46,
      "metadata": {
        "id": "KAS9if-LhQSt"
      },
      "outputs": [],
      "source": [
        "countries = websoup.find_all(class_=\"country-name\")"
      ]
    },
    {
      "cell_type": "code",
      "execution_count": 47,
      "metadata": {
        "id": "zO6QL2qzhQSt"
      },
      "outputs": [],
      "source": [
        "countries = [country.get_text().strip() for country in countries]"
      ]
    },
    {
      "cell_type": "code",
      "execution_count": 48,
      "metadata": {
        "colab": {
          "base_uri": "https://localhost:8080/"
        },
        "id": "HTeI1crghQSt",
        "outputId": "b3f6fcb6-3f73-4174-b132-b9e8db005c54"
      },
      "outputs": [
        {
          "data": {
            "text/plain": [
              "['Andorra',\n",
              " 'United Arab Emirates',\n",
              " 'Afghanistan',\n",
              " 'Antigua and Barbuda',\n",
              " 'Anguilla']"
            ]
          },
          "execution_count": 48,
          "metadata": {},
          "output_type": "execute_result"
        }
      ],
      "source": [
        "countries[:5]"
      ]
    },
    {
      "cell_type": "code",
      "execution_count": 49,
      "metadata": {
        "id": "6mhI8YTghQSu"
      },
      "outputs": [],
      "source": [
        "import pandas as pd\n"
      ]
    },
    {
      "cell_type": "code",
      "execution_count": 50,
      "metadata": {
        "id": "r0IygA2yhQSu"
      },
      "outputs": [],
      "source": [
        "capitals = websoup.find_all(class_=\"country-capital\")\n",
        "capitals = [capital.get_text().strip() for capital in capitals]"
      ]
    },
    {
      "cell_type": "code",
      "execution_count": 51,
      "metadata": {
        "colab": {
          "base_uri": "https://localhost:8080/"
        },
        "id": "BiHSY9ZqhQSu",
        "outputId": "5f06af43-90c8-4ccb-af97-7c7cb581f722"
      },
      "outputs": [
        {
          "data": {
            "text/plain": [
              "['Andorra la Vella', 'Abu Dhabi', 'Kabul', \"St. John's\", 'The Valley']"
            ]
          },
          "execution_count": 51,
          "metadata": {},
          "output_type": "execute_result"
        }
      ],
      "source": [
        "capitals[:5]"
      ]
    },
    {
      "cell_type": "code",
      "execution_count": 52,
      "metadata": {
        "id": "0Ab1fW7DhQSu"
      },
      "outputs": [],
      "source": [
        "populations = websoup.find_all(class_=\"country-population\")\n",
        "populations = [population.get_text().strip() for population in populations]"
      ]
    },
    {
      "cell_type": "code",
      "execution_count": 53,
      "metadata": {
        "id": "xCAh22zzhQSu",
        "outputId": "b83b8775-3538-44c6-b4dc-5b79f2166bd5"
      },
      "outputs": [
        {
          "data": {
            "text/plain": [
              "['84000', '4975593', '29121286', '86754', '13254']"
            ]
          },
          "execution_count": 53,
          "metadata": {},
          "output_type": "execute_result"
        }
      ],
      "source": [
        "populations[:5]"
      ]
    },
    {
      "cell_type": "code",
      "execution_count": 54,
      "metadata": {
        "id": "mkdpidgxhQSv"
      },
      "outputs": [],
      "source": [
        "areas = websoup.find_all(class_=\"country-area\")\n",
        "areas = [area.get_text().strip() for area in areas]"
      ]
    },
    {
      "cell_type": "code",
      "execution_count": 55,
      "metadata": {
        "id": "aCtU9ZoehQSv"
      },
      "outputs": [],
      "source": [
        "data = pd.DataFrame({\n",
        "    \"Country\": countries,\n",
        "    \"Capital\": capitals,\n",
        "    \"Population\": populations,\n",
        "    \"Area\": areas\n",
        "})"
      ]
    },
    {
      "cell_type": "code",
      "execution_count": 56,
      "metadata": {
        "id": "oZR4R0bxhQSv",
        "outputId": "5144f442-1848-4e02-fa0d-a5d57d7e821a"
      },
      "outputs": [
        {
          "data": {
            "text/html": [
              "<div>\n",
              "<style scoped>\n",
              "    .dataframe tbody tr th:only-of-type {\n",
              "        vertical-align: middle;\n",
              "    }\n",
              "\n",
              "    .dataframe tbody tr th {\n",
              "        vertical-align: top;\n",
              "    }\n",
              "\n",
              "    .dataframe thead th {\n",
              "        text-align: right;\n",
              "    }\n",
              "</style>\n",
              "<table border=\"1\" class=\"dataframe\">\n",
              "  <thead>\n",
              "    <tr style=\"text-align: right;\">\n",
              "      <th></th>\n",
              "      <th>Country</th>\n",
              "      <th>Capital</th>\n",
              "      <th>Population</th>\n",
              "      <th>Area</th>\n",
              "    </tr>\n",
              "  </thead>\n",
              "  <tbody>\n",
              "    <tr>\n",
              "      <th>0</th>\n",
              "      <td>Andorra</td>\n",
              "      <td>Andorra la Vella</td>\n",
              "      <td>84000</td>\n",
              "      <td>468.0</td>\n",
              "    </tr>\n",
              "    <tr>\n",
              "      <th>1</th>\n",
              "      <td>United Arab Emirates</td>\n",
              "      <td>Abu Dhabi</td>\n",
              "      <td>4975593</td>\n",
              "      <td>82880.0</td>\n",
              "    </tr>\n",
              "    <tr>\n",
              "      <th>2</th>\n",
              "      <td>Afghanistan</td>\n",
              "      <td>Kabul</td>\n",
              "      <td>29121286</td>\n",
              "      <td>647500.0</td>\n",
              "    </tr>\n",
              "    <tr>\n",
              "      <th>3</th>\n",
              "      <td>Antigua and Barbuda</td>\n",
              "      <td>St. John's</td>\n",
              "      <td>86754</td>\n",
              "      <td>443.0</td>\n",
              "    </tr>\n",
              "    <tr>\n",
              "      <th>4</th>\n",
              "      <td>Anguilla</td>\n",
              "      <td>The Valley</td>\n",
              "      <td>13254</td>\n",
              "      <td>102.0</td>\n",
              "    </tr>\n",
              "  </tbody>\n",
              "</table>\n",
              "</div>"
            ],
            "text/plain": [
              "                Country           Capital Population      Area\n",
              "0               Andorra  Andorra la Vella      84000     468.0\n",
              "1  United Arab Emirates         Abu Dhabi    4975593   82880.0\n",
              "2           Afghanistan             Kabul   29121286  647500.0\n",
              "3   Antigua and Barbuda        St. John's      86754     443.0\n",
              "4              Anguilla        The Valley      13254     102.0"
            ]
          },
          "execution_count": 56,
          "metadata": {},
          "output_type": "execute_result"
        }
      ],
      "source": [
        "data.head()"
      ]
    },
    {
      "cell_type": "code",
      "execution_count": null,
      "metadata": {
        "id": "4yboFSwmhQSv"
      },
      "outputs": [],
      "source": []
    }
  ],
  "metadata": {
    "colab": {
      "provenance": []
    },
    "kernelspec": {
      "display_name": "Python 3",
      "language": "python",
      "name": "python3"
    },
    "language_info": {
      "codemirror_mode": {
        "name": "ipython",
        "version": 3
      },
      "file_extension": ".py",
      "mimetype": "text/x-python",
      "name": "python",
      "nbconvert_exporter": "python",
      "pygments_lexer": "ipython3",
      "version": "3.12.0"
    }
  },
  "nbformat": 4,
  "nbformat_minor": 0
}
