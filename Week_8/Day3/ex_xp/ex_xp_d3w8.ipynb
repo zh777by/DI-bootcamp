{
  "nbformat": 4,
  "nbformat_minor": 0,
  "metadata": {
    "colab": {
      "provenance": []
    },
    "kernelspec": {
      "name": "python3",
      "display_name": "Python 3"
    },
    "language_info": {
      "name": "python"
    }
  },
  "cells": [
    {
      "cell_type": "code",
      "execution_count": 1,
      "metadata": {
        "colab": {
          "base_uri": "https://localhost:8080/"
        },
        "id": "hFvknmdEBeaG",
        "outputId": "6cd7c395-f1c8-4823-97c3-62787ec279be"
      },
      "outputs": [
        {
          "output_type": "stream",
          "name": "stdout",
          "text": [
            "                                              review sentiment\n",
            "0  One of the other reviewers has mentioned that ...  positive\n",
            "1  A wonderful little production. <br /><br />The...  positive\n",
            "2  I thought this was a wonderful way to spend ti...  positive\n",
            "3  Basically there's a family where a little boy ...  negative\n",
            "4  Petter Mattei's \"Love in the Time of Money\" is...  positive\n",
            "(10000, 2)\n",
            "review       object\n",
            "sentiment    object\n",
            "dtype: object\n"
          ]
        }
      ],
      "source": [
        "import pandas as pd\n",
        "\n",
        "df_imdb = pd.read_csv('IMDB Dataset.csv')\n",
        "df_imdb = df_imdb.iloc[:len(df_imdb) // 5]\n",
        "print(df_imdb.head())\n",
        "print(df_imdb.shape)\n",
        "print(df_imdb.dtypes)"
      ]
    },
    {
      "cell_type": "code",
      "source": [
        "nan_info = df_imdb.isnull().sum()\n",
        "\n",
        "print(\"NaN values in the DataFrame:\")\n",
        "print(nan_info)\n",
        "\n",
        "df_imdb_cleaned = df_imdb.dropna()\n",
        "\n",
        "print(\"\\nSize of the cleaned DataFrame:\")\n",
        "print(df_imdb_cleaned.shape)"
      ],
      "metadata": {
        "colab": {
          "base_uri": "https://localhost:8080/"
        },
        "id": "TLxVhc_fBw3D",
        "outputId": "5defd369-b89a-4173-d52e-e102219ac245"
      },
      "execution_count": 2,
      "outputs": [
        {
          "output_type": "stream",
          "name": "stdout",
          "text": [
            "NaN values in the DataFrame:\n",
            "review       0\n",
            "sentiment    0\n",
            "dtype: int64\n",
            "\n",
            "Size of the cleaned DataFrame:\n",
            "(10000, 2)\n"
          ]
        }
      ]
    },
    {
      "cell_type": "code",
      "source": [
        "print(\"First 5 reviews and their sentiment classifications:\")\n",
        "print(df_imdb_cleaned[['review', 'sentiment']].head())"
      ],
      "metadata": {
        "colab": {
          "base_uri": "https://localhost:8080/"
        },
        "id": "6ABy_WcIBytp",
        "outputId": "51e14275-b25e-407b-9da9-430b77633608"
      },
      "execution_count": 3,
      "outputs": [
        {
          "output_type": "stream",
          "name": "stdout",
          "text": [
            "First 5 reviews and their sentiment classifications:\n",
            "                                              review sentiment\n",
            "0  One of the other reviewers has mentioned that ...  positive\n",
            "1  A wonderful little production. <br /><br />The...  positive\n",
            "2  I thought this was a wonderful way to spend ti...  positive\n",
            "3  Basically there's a family where a little boy ...  negative\n",
            "4  Petter Mattei's \"Love in the Time of Money\" is...  positive\n"
          ]
        }
      ]
    },
    {
      "cell_type": "code",
      "source": [
        "def count_words(text):\n",
        "    words = text.split()\n",
        "    return len(words)\n",
        "\n",
        "df_imdb_cleaned['words count'] = df_imdb_cleaned['review'].apply(count_words)\n",
        "\n",
        "print(\"DataFrame with 'words count' column:\")\n",
        "print(df_imdb_cleaned.head())"
      ],
      "metadata": {
        "colab": {
          "base_uri": "https://localhost:8080/"
        },
        "id": "PS9k5tutB0s2",
        "outputId": "31dc683f-6ac6-4802-ceee-3900c856ea6a"
      },
      "execution_count": 4,
      "outputs": [
        {
          "output_type": "stream",
          "name": "stdout",
          "text": [
            "DataFrame with 'words count' column:\n",
            "                                              review sentiment  words count\n",
            "0  One of the other reviewers has mentioned that ...  positive          307\n",
            "1  A wonderful little production. <br /><br />The...  positive          162\n",
            "2  I thought this was a wonderful way to spend ti...  positive          166\n",
            "3  Basically there's a family where a little boy ...  negative          138\n",
            "4  Petter Mattei's \"Love in the Time of Money\" is...  positive          230\n"
          ]
        }
      ]
    },
    {
      "cell_type": "code",
      "source": [
        "import re\n",
        "import string\n",
        "import nltk\n",
        "from nltk.corpus import stopwords\n",
        "from nltk.tokenize import word_tokenize\n",
        "\n",
        "nltk.download('punkt')\n",
        "nltk.download('stopwords')\n",
        "\n",
        "def simple_preprocessing(text):\n",
        "    text = text.lower()\n",
        "    text = re.sub(r'<br\\s*?/?>', ' ', text)\n",
        "    text = re.sub(r'http\\S+', '', text)\n",
        "    text = re.sub(r'[@#]', '', text)\n",
        "    text = text.translate(str.maketrans('', '', string.punctuation))\n",
        "    tokens = word_tokenize(text)\n",
        "\n",
        "    stop_words = set(stopwords.words('english'))\n",
        "    tokens = [word for word in tokens if word not in stop_words]\n",
        "\n",
        "    preprocessed_text = ' '.join(tokens)\n",
        "\n",
        "    return preprocessed_text\n",
        "\n",
        "text_to_preprocess = \"Sample text with <br/> HTML tags, URLs http://example.com, #hashtags, and @mentions. It needs cleaning!\"\n",
        "preprocessed_text = simple_preprocessing(text_to_preprocess)\n",
        "print(\"Original Text:\", text_to_preprocess)\n",
        "print(\"Preprocessed Text:\", preprocessed_text)"
      ],
      "metadata": {
        "colab": {
          "base_uri": "https://localhost:8080/"
        },
        "id": "bdy-7RYKCNZX",
        "outputId": "424b24e5-5263-4119-e8ee-63819da37256"
      },
      "execution_count": 12,
      "outputs": [
        {
          "output_type": "stream",
          "name": "stdout",
          "text": [
            "Original Text: Sample text with <br/> HTML tags, URLs http://example.com, #hashtags, and @mentions. It needs cleaning!\n",
            "Preprocessed Text: sample text html tags urls hashtags mentions needs cleaning\n"
          ]
        },
        {
          "output_type": "stream",
          "name": "stderr",
          "text": [
            "[nltk_data] Downloading package punkt to /root/nltk_data...\n",
            "[nltk_data]   Package punkt is already up-to-date!\n",
            "[nltk_data] Downloading package stopwords to /root/nltk_data...\n",
            "[nltk_data]   Unzipping corpora/stopwords.zip.\n"
          ]
        }
      ]
    },
    {
      "cell_type": "code",
      "source": [
        "df_imdb['review_cleaned'] = df_imdb['review'].apply(simple_preprocessing)\n",
        "df_imdb"
      ],
      "metadata": {
        "id": "yHbcdk1fOxxD"
      },
      "execution_count": 13,
      "outputs": []
    },
    {
      "cell_type": "code",
      "source": [
        "for index, row in df_imdb.head(5).iterrows():\n",
        "    original_review = row['review']\n",
        "    cleaned_review = row['review_cleaned']\n",
        "    print(f\"Original Review {index + 1}:\\n{original_review}\\n\")\n",
        "    print(f\"Cleaned Review {index + 1}:\\n{cleaned_review}\\n\")\n",
        "    print(\"-----------------------------------------------------\")"
      ],
      "metadata": {
        "colab": {
          "base_uri": "https://localhost:8080/"
        },
        "id": "zPqlXeSnP5fS",
        "outputId": "ee75e46b-6ce4-47c3-9dbd-0eb9e4573167"
      },
      "execution_count": 16,
      "outputs": [
        {
          "output_type": "stream",
          "name": "stdout",
          "text": [
            "Original Review 1:\n",
            "One of the other reviewers has mentioned that after watching just 1 Oz episode you'll be hooked. They are right, as this is exactly what happened with me.<br /><br />The first thing that struck me about Oz was its brutality and unflinching scenes of violence, which set in right from the word GO. Trust me, this is not a show for the faint hearted or timid. This show pulls no punches with regards to drugs, sex or violence. Its is hardcore, in the classic use of the word.<br /><br />It is called OZ as that is the nickname given to the Oswald Maximum Security State Penitentary. It focuses mainly on Emerald City, an experimental section of the prison where all the cells have glass fronts and face inwards, so privacy is not high on the agenda. Em City is home to many..Aryans, Muslims, gangstas, Latinos, Christians, Italians, Irish and more....so scuffles, death stares, dodgy dealings and shady agreements are never far away.<br /><br />I would say the main appeal of the show is due to the fact that it goes where other shows wouldn't dare. Forget pretty pictures painted for mainstream audiences, forget charm, forget romance...OZ doesn't mess around. The first episode I ever saw struck me as so nasty it was surreal, I couldn't say I was ready for it, but as I watched more, I developed a taste for Oz, and got accustomed to the high levels of graphic violence. Not just violence, but injustice (crooked guards who'll be sold out for a nickel, inmates who'll kill on order and get away with it, well mannered, middle class inmates being turned into prison bitches due to their lack of street skills or prison experience) Watching Oz, you may become comfortable with what is uncomfortable viewing....thats if you can get in touch with your darker side.\n",
            "\n",
            "Cleaned Review 1:\n",
            "one reviewers mentioned watching 1 oz episode youll hooked right exactly happened first thing struck oz brutality unflinching scenes violence set right word go trust show faint hearted timid show pulls punches regards drugs sex violence hardcore classic use word called oz nickname given oswald maximum security state penitentary focuses mainly emerald city experimental section prison cells glass fronts face inwards privacy high agenda em city home manyaryans muslims gangstas latinos christians italians irish moreso scuffles death stares dodgy dealings shady agreements never far away would say main appeal show due fact goes shows wouldnt dare forget pretty pictures painted mainstream audiences forget charm forget romanceoz doesnt mess around first episode ever saw struck nasty surreal couldnt say ready watched developed taste oz got accustomed high levels graphic violence violence injustice crooked guards wholl sold nickel inmates wholl kill order get away well mannered middle class inmates turned prison bitches due lack street skills prison experience watching oz may become comfortable uncomfortable viewingthats get touch darker side\n",
            "\n",
            "-----------------------------------------------------\n",
            "Original Review 2:\n",
            "A wonderful little production. <br /><br />The filming technique is very unassuming- very old-time-BBC fashion and gives a comforting, and sometimes discomforting, sense of realism to the entire piece. <br /><br />The actors are extremely well chosen- Michael Sheen not only \"has got all the polari\" but he has all the voices down pat too! You can truly see the seamless editing guided by the references to Williams' diary entries, not only is it well worth the watching but it is a terrificly written and performed piece. A masterful production about one of the great master's of comedy and his life. <br /><br />The realism really comes home with the little things: the fantasy of the guard which, rather than use the traditional 'dream' techniques remains solid then disappears. It plays on our knowledge and our senses, particularly with the scenes concerning Orton and Halliwell and the sets (particularly of their flat with Halliwell's murals decorating every surface) are terribly well done.\n",
            "\n",
            "Cleaned Review 2:\n",
            "wonderful little production filming technique unassuming oldtimebbc fashion gives comforting sometimes discomforting sense realism entire piece actors extremely well chosen michael sheen got polari voices pat truly see seamless editing guided references williams diary entries well worth watching terrificly written performed piece masterful production one great masters comedy life realism really comes home little things fantasy guard rather use traditional dream techniques remains solid disappears plays knowledge senses particularly scenes concerning orton halliwell sets particularly flat halliwells murals decorating every surface terribly well done\n",
            "\n",
            "-----------------------------------------------------\n",
            "Original Review 3:\n",
            "I thought this was a wonderful way to spend time on a too hot summer weekend, sitting in the air conditioned theater and watching a light-hearted comedy. The plot is simplistic, but the dialogue is witty and the characters are likable (even the well bread suspected serial killer). While some may be disappointed when they realize this is not Match Point 2: Risk Addiction, I thought it was proof that Woody Allen is still fully in control of the style many of us have grown to love.<br /><br />This was the most I'd laughed at one of Woody's comedies in years (dare I say a decade?). While I've never been impressed with Scarlet Johanson, in this she managed to tone down her \"sexy\" image and jumped right into a average, but spirited young woman.<br /><br />This may not be the crown jewel of his career, but it was wittier than \"Devil Wears Prada\" and more interesting than \"Superman\" a great comedy to go see with friends.\n",
            "\n",
            "Cleaned Review 3:\n",
            "thought wonderful way spend time hot summer weekend sitting air conditioned theater watching lighthearted comedy plot simplistic dialogue witty characters likable even well bread suspected serial killer may disappointed realize match point 2 risk addiction thought proof woody allen still fully control style many us grown love id laughed one woodys comedies years dare say decade ive never impressed scarlet johanson managed tone sexy image jumped right average spirited young woman may crown jewel career wittier devil wears prada interesting superman great comedy go see friends\n",
            "\n",
            "-----------------------------------------------------\n",
            "Original Review 4:\n",
            "Basically there's a family where a little boy (Jake) thinks there's a zombie in his closet & his parents are fighting all the time.<br /><br />This movie is slower than a soap opera... and suddenly, Jake decides to become Rambo and kill the zombie.<br /><br />OK, first of all when you're going to make a film you must Decide if its a thriller or a drama! As a drama the movie is watchable. Parents are divorcing & arguing like in real life. And then we have Jake with his closet which totally ruins all the film! I expected to see a BOOGEYMAN similar movie, and instead i watched a drama with some meaningless thriller spots.<br /><br />3 out of 10 just for the well playing parents & descent dialogs. As for the shots with Jake: just ignore them.\n",
            "\n",
            "Cleaned Review 4:\n",
            "basically theres family little boy jake thinks theres zombie closet parents fighting time movie slower soap opera suddenly jake decides become rambo kill zombie ok first youre going make film must decide thriller drama drama movie watchable parents divorcing arguing like real life jake closet totally ruins film expected see boogeyman similar movie instead watched drama meaningless thriller spots 3 10 well playing parents descent dialogs shots jake ignore\n",
            "\n",
            "-----------------------------------------------------\n",
            "Original Review 5:\n",
            "Petter Mattei's \"Love in the Time of Money\" is a visually stunning film to watch. Mr. Mattei offers us a vivid portrait about human relations. This is a movie that seems to be telling us what money, power and success do to people in the different situations we encounter. <br /><br />This being a variation on the Arthur Schnitzler's play about the same theme, the director transfers the action to the present time New York where all these different characters meet and connect. Each one is connected in one way, or another to the next person, but no one seems to know the previous point of contact. Stylishly, the film has a sophisticated luxurious look. We are taken to see how these people live and the world they live in their own habitat.<br /><br />The only thing one gets out of all these souls in the picture is the different stages of loneliness each one inhabits. A big city is not exactly the best place in which human relations find sincere fulfillment, as one discerns is the case with most of the people we encounter.<br /><br />The acting is good under Mr. Mattei's direction. Steve Buscemi, Rosario Dawson, Carol Kane, Michael Imperioli, Adrian Grenier, and the rest of the talented cast, make these characters come alive.<br /><br />We wish Mr. Mattei good luck and await anxiously for his next work.\n",
            "\n",
            "Cleaned Review 5:\n",
            "petter matteis love time money visually stunning film watch mr mattei offers us vivid portrait human relations movie seems telling us money power success people different situations encounter variation arthur schnitzlers play theme director transfers action present time new york different characters meet connect one connected one way another next person one seems know previous point contact stylishly film sophisticated luxurious look taken see people live world live habitat thing one gets souls picture different stages loneliness one inhabits big city exactly best place human relations find sincere fulfillment one discerns case people encounter acting good mr matteis direction steve buscemi rosario dawson carol kane michael imperioli adrian grenier rest talented cast make characters come alive wish mr mattei good luck await anxiously next work\n",
            "\n",
            "-----------------------------------------------------\n"
          ]
        }
      ]
    },
    {
      "cell_type": "code",
      "source": [
        "duplicated_reviews = df_imdb[df_imdb.duplicated(subset=['review_cleaned'])]\n",
        "\n",
        "print(\"Duplicated Reviews:\")\n",
        "print(duplicated_reviews[['review', 'review_cleaned']])\n",
        "\n",
        "df_imdb_cleaned = df_imdb.drop_duplicates(subset=['review_cleaned'])\n",
        "\n",
        "print(f\"Shape of DataFrame before removing duplicates: {df_imdb.shape}\")\n",
        "print(f\"Shape of DataFrame after removing duplicates: {df_imdb_cleaned.shape}\")"
      ],
      "metadata": {
        "colab": {
          "base_uri": "https://localhost:8080/"
        },
        "id": "d-B6lAVXP6b9",
        "outputId": "bdacd2b1-6ad1-44e4-e1e2-31a302c575e7"
      },
      "execution_count": 17,
      "outputs": [
        {
          "output_type": "stream",
          "name": "stdout",
          "text": [
            "Duplicated Reviews:\n",
            "                                                 review  \\\n",
            "3537  Quite what the producers of this appalling ada...   \n",
            "3769  My favourite police series of all time turns t...   \n",
            "4391  Beautiful film, pure Cassavetes style. Gena Ro...   \n",
            "6352  If you liked the Grinch movie... go watch that...   \n",
            "6479  I want very much to believe that the above quo...   \n",
            "6672  Sigh. I'm baffled when I see a short like this...   \n",
            "7221  I have always been a huge fan of \"Homicide: Li...   \n",
            "7222  There are plenty of comments already posted sa...   \n",
            "7425  The movie was excellent, save for some of the ...   \n",
            "7555  This movie has made me upset! When I think of ...   \n",
            "8040  Contains spoilers. <br /><br />The British dir...   \n",
            "8801  Hilarious, clean, light-hearted, and quote-wor...   \n",
            "8868  Ik know it is impossible to keep all details o...   \n",
            "8874  From director Barbet Schroder (Reversal of For...   \n",
            "9057  So, I'm wondering while watching this film, di...   \n",
            "9503  This is one of those star-filled over-the-top ...   \n",
            "9522  I watched this movie when Joe Bob Briggs hoste...   \n",
            "\n",
            "                                         review_cleaned  \n",
            "3537  quite producers appalling adaptation trying im...  \n",
            "3769  favourite police series time turns tvfilm work...  \n",
            "4391  beautiful film pure cassavetes style gena rowl...  \n",
            "6352  liked grinch movie go watch near good seussian...  \n",
            "6479  want much believe quote specifically english s...  \n",
            "6672  sigh im baffled see short like get attention a...  \n",
            "7221  always huge fan homicide life street heard reu...  \n",
            "7222  plenty comments already posted saying exactly ...  \n",
            "7425  movie excellent save scenes esposito enjoyed b...  \n",
            "7555  movie made upset think cat hat im thinking cat...  \n",
            "8040  contains spoilers british director j lee thomp...  \n",
            "8801  hilarious clean lighthearted quoteworthy else ...  \n",
            "8868  ik know impossible keep details book movie mov...  \n",
            "8874  director barbet schroder reversal fortune thin...  \n",
            "9057  im wondering watching film producers movie get...  \n",
            "9503  one starfilled overthetop comedies could hyste...  \n",
            "9522  watched movie joe bob briggs hosted monstervis...  \n",
            "Shape of DataFrame before removing duplicates: (10000, 3)\n",
            "Shape of DataFrame after removing duplicates: (9983, 3)\n"
          ]
        }
      ]
    },
    {
      "cell_type": "code",
      "source": [
        "from nltk.stem import PorterStemmer\n",
        "\n",
        "porter_stemmer = PorterStemmer()\n",
        "\n",
        "def stemming(text):\n",
        "    tokens = word_tokenize(text)\n",
        "    stemmed_tokens = [porter_stemmer.stem(token) for token in tokens]\n",
        "    stemmed_text = ' '.join(stemmed_tokens)\n",
        "    return stemmed_text\n",
        "\n",
        "df_imdb_cleaned['review_stemmed'] = df_imdb_cleaned['review_cleaned'].apply(stemming)\n",
        "\n",
        "for index, row in df_imdb_cleaned.head(5).iterrows():\n",
        "    cleaned_review = row['review_cleaned']\n",
        "    stemmed_review = row['review_stemmed']\n",
        "    print(f\"Cleaned Review {index + 1}:\\n{cleaned_review}\\n\")\n",
        "    print(f\"Stemmed Review {index + 1}:\\n{stemmed_review}\\n\")\n",
        "    print(\"-----------------------------------------------------\")"
      ],
      "metadata": {
        "colab": {
          "base_uri": "https://localhost:8080/"
        },
        "id": "ol4AZwSWQfjV",
        "outputId": "ef609181-d3f7-4b74-afb4-1f3b2869e35b"
      },
      "execution_count": 19,
      "outputs": [
        {
          "output_type": "stream",
          "name": "stdout",
          "text": [
            "Cleaned Review 1:\n",
            "one reviewers mentioned watching 1 oz episode youll hooked right exactly happened first thing struck oz brutality unflinching scenes violence set right word go trust show faint hearted timid show pulls punches regards drugs sex violence hardcore classic use word called oz nickname given oswald maximum security state penitentary focuses mainly emerald city experimental section prison cells glass fronts face inwards privacy high agenda em city home manyaryans muslims gangstas latinos christians italians irish moreso scuffles death stares dodgy dealings shady agreements never far away would say main appeal show due fact goes shows wouldnt dare forget pretty pictures painted mainstream audiences forget charm forget romanceoz doesnt mess around first episode ever saw struck nasty surreal couldnt say ready watched developed taste oz got accustomed high levels graphic violence violence injustice crooked guards wholl sold nickel inmates wholl kill order get away well mannered middle class inmates turned prison bitches due lack street skills prison experience watching oz may become comfortable uncomfortable viewingthats get touch darker side\n",
            "\n",
            "Stemmed Review 1:\n",
            "one review mention watch 1 oz episod youll hook right exactli happen first thing struck oz brutal unflinch scene violenc set right word go trust show faint heart timid show pull punch regard drug sex violenc hardcor classic use word call oz nicknam given oswald maximum secur state penitentari focus mainli emerald citi experiment section prison cell glass front face inward privaci high agenda em citi home manyaryan muslim gangsta latino christian italian irish moreso scuffl death stare dodgi deal shadi agreement never far away would say main appeal show due fact goe show wouldnt dare forget pretti pictur paint mainstream audienc forget charm forget romanceoz doesnt mess around first episod ever saw struck nasti surreal couldnt say readi watch develop tast oz got accustom high level graphic violenc violenc injustic crook guard wholl sold nickel inmat wholl kill order get away well manner middl class inmat turn prison bitch due lack street skill prison experi watch oz may becom comfort uncomfort viewingthat get touch darker side\n",
            "\n",
            "-----------------------------------------------------\n",
            "Cleaned Review 2:\n",
            "wonderful little production filming technique unassuming oldtimebbc fashion gives comforting sometimes discomforting sense realism entire piece actors extremely well chosen michael sheen got polari voices pat truly see seamless editing guided references williams diary entries well worth watching terrificly written performed piece masterful production one great masters comedy life realism really comes home little things fantasy guard rather use traditional dream techniques remains solid disappears plays knowledge senses particularly scenes concerning orton halliwell sets particularly flat halliwells murals decorating every surface terribly well done\n",
            "\n",
            "Stemmed Review 2:\n",
            "wonder littl product film techniqu unassum oldtimebbc fashion give comfort sometim discomfort sens realism entir piec actor extrem well chosen michael sheen got polari voic pat truli see seamless edit guid refer william diari entri well worth watch terrificli written perform piec master product one great master comedi life realism realli come home littl thing fantasi guard rather use tradit dream techniqu remain solid disappear play knowledg sens particularli scene concern orton halliwel set particularli flat halliwel mural decor everi surfac terribl well done\n",
            "\n",
            "-----------------------------------------------------\n",
            "Cleaned Review 3:\n",
            "thought wonderful way spend time hot summer weekend sitting air conditioned theater watching lighthearted comedy plot simplistic dialogue witty characters likable even well bread suspected serial killer may disappointed realize match point 2 risk addiction thought proof woody allen still fully control style many us grown love id laughed one woodys comedies years dare say decade ive never impressed scarlet johanson managed tone sexy image jumped right average spirited young woman may crown jewel career wittier devil wears prada interesting superman great comedy go see friends\n",
            "\n",
            "Stemmed Review 3:\n",
            "thought wonder way spend time hot summer weekend sit air condit theater watch lightheart comedi plot simplist dialogu witti charact likabl even well bread suspect serial killer may disappoint realiz match point 2 risk addict thought proof woodi allen still fulli control style mani us grown love id laugh one woodi comedi year dare say decad ive never impress scarlet johanson manag tone sexi imag jump right averag spirit young woman may crown jewel career wittier devil wear prada interest superman great comedi go see friend\n",
            "\n",
            "-----------------------------------------------------\n",
            "Cleaned Review 4:\n",
            "basically theres family little boy jake thinks theres zombie closet parents fighting time movie slower soap opera suddenly jake decides become rambo kill zombie ok first youre going make film must decide thriller drama drama movie watchable parents divorcing arguing like real life jake closet totally ruins film expected see boogeyman similar movie instead watched drama meaningless thriller spots 3 10 well playing parents descent dialogs shots jake ignore\n",
            "\n",
            "Stemmed Review 4:\n",
            "basic there famili littl boy jake think there zombi closet parent fight time movi slower soap opera suddenli jake decid becom rambo kill zombi ok first your go make film must decid thriller drama drama movi watchabl parent divorc argu like real life jake closet total ruin film expect see boogeyman similar movi instead watch drama meaningless thriller spot 3 10 well play parent descent dialog shot jake ignor\n",
            "\n",
            "-----------------------------------------------------\n",
            "Cleaned Review 5:\n",
            "petter matteis love time money visually stunning film watch mr mattei offers us vivid portrait human relations movie seems telling us money power success people different situations encounter variation arthur schnitzlers play theme director transfers action present time new york different characters meet connect one connected one way another next person one seems know previous point contact stylishly film sophisticated luxurious look taken see people live world live habitat thing one gets souls picture different stages loneliness one inhabits big city exactly best place human relations find sincere fulfillment one discerns case people encounter acting good mr matteis direction steve buscemi rosario dawson carol kane michael imperioli adrian grenier rest talented cast make characters come alive wish mr mattei good luck await anxiously next work\n",
            "\n",
            "Stemmed Review 5:\n",
            "petter mattei love time money visual stun film watch mr mattei offer us vivid portrait human relat movi seem tell us money power success peopl differ situat encount variat arthur schnitzler play theme director transfer action present time new york differ charact meet connect one connect one way anoth next person one seem know previou point contact stylishli film sophist luxuri look taken see peopl live world live habitat thing one get soul pictur differ stage loneli one inhabit big citi exactli best place human relat find sincer fulfil one discern case peopl encount act good mr mattei direct steve buscemi rosario dawson carol kane michael imperioli adrian grenier rest talent cast make charact come aliv wish mr mattei good luck await anxious next work\n",
            "\n",
            "-----------------------------------------------------\n"
          ]
        },
        {
          "output_type": "stream",
          "name": "stderr",
          "text": [
            "<ipython-input-19-46210aaaf65a>:20: SettingWithCopyWarning: \n",
            "A value is trying to be set on a copy of a slice from a DataFrame.\n",
            "Try using .loc[row_indexer,col_indexer] = value instead\n",
            "\n",
            "See the caveats in the documentation: https://pandas.pydata.org/pandas-docs/stable/user_guide/indexing.html#returning-a-view-versus-a-copy\n",
            "  df_imdb_cleaned['review_stemmed'] = df_imdb_cleaned['review_cleaned'].apply(stemming)\n"
          ]
        }
      ]
    },
    {
      "cell_type": "code",
      "source": [
        "from sklearn.model_selection import train_test_split\n",
        "from sklearn.preprocessing import LabelBinarizer\n",
        "\n",
        "label_binarizer = LabelBinarizer()\n",
        "df_imdb_cleaned['sentiment_binary'] = label_binarizer.fit_transform(df_imdb_cleaned['sentiment'])\n",
        "\n",
        "X = df_imdb_cleaned['review_stemmed']\n",
        "Y = df_imdb_cleaned['sentiment_binary']\n",
        "\n",
        "X_train, X_test, Y_train, Y_test = train_test_split(X, Y, test_size=0.2, random_state=42)\n",
        "\n",
        "print(f\"X_train shape: {X_train.shape}\")\n",
        "print(f\"X_test shape: {X_test.shape}\")\n",
        "print(f\"Y_train shape: {Y_train.shape}\")\n",
        "print(f\"Y_test shape: {Y_test.shape}\")"
      ],
      "metadata": {
        "colab": {
          "base_uri": "https://localhost:8080/"
        },
        "id": "dURhPTqPRPv-",
        "outputId": "3968f976-73e2-4612-9987-bee39339f6aa"
      },
      "execution_count": 20,
      "outputs": [
        {
          "output_type": "stream",
          "name": "stdout",
          "text": [
            "X_train shape: (7986,)\n",
            "X_test shape: (1997,)\n",
            "Y_train shape: (7986,)\n",
            "Y_test shape: (1997,)\n"
          ]
        },
        {
          "output_type": "stream",
          "name": "stderr",
          "text": [
            "<ipython-input-20-ebdbc196a0b4>:6: SettingWithCopyWarning: \n",
            "A value is trying to be set on a copy of a slice from a DataFrame.\n",
            "Try using .loc[row_indexer,col_indexer] = value instead\n",
            "\n",
            "See the caveats in the documentation: https://pandas.pydata.org/pandas-docs/stable/user_guide/indexing.html#returning-a-view-versus-a-copy\n",
            "  df_imdb_cleaned['sentiment_binary'] = label_binarizer.fit_transform(df_imdb_cleaned['sentiment'])\n"
          ]
        }
      ]
    },
    {
      "cell_type": "code",
      "source": [
        "from sklearn.feature_extraction.text import TfidfVectorizer\n",
        "\n",
        "tfidf_vectorizer = TfidfVectorizer(max_features=5000)\n",
        "\n",
        "X_train_tfidf = tfidf_vectorizer.fit_transform(X_train)\n",
        "\n",
        "X_test_tfidf = tfidf_vectorizer.transform(X_test)\n",
        "\n",
        "print(f\"X_train_tfidf shape: {X_train_tfidf.shape}\")\n",
        "print(f\"X_test_tfidf shape: {X_test_tfidf.shape}\")"
      ],
      "metadata": {
        "colab": {
          "base_uri": "https://localhost:8080/"
        },
        "id": "cCgXxzZbRePB",
        "outputId": "be3da723-6b2f-4235-ea18-29c2129038e0"
      },
      "execution_count": 21,
      "outputs": [
        {
          "output_type": "stream",
          "name": "stdout",
          "text": [
            "X_train_tfidf shape: (7986, 5000)\n",
            "X_test_tfidf shape: (1997, 5000)\n"
          ]
        }
      ]
    },
    {
      "cell_type": "code",
      "source": [
        "from sklearn.model_selection import train_test_split\n",
        "\n",
        "X_train_final, X_test_final, Y_train_final, Y_test_final = train_test_split(\n",
        "    X_train_tfidf, Y_train, test_size=0.3, random_state=42\n",
        ")\n",
        "\n",
        "print(f\"X_train_final shape: {X_train_final.shape}\")\n",
        "print(f\"X_test_final shape: {X_test_final.shape}\")\n",
        "print(f\"Y_train_final shape: {Y_train_final.shape}\")\n",
        "print(f\"Y_test_final shape: {Y_test_final.shape}\")"
      ],
      "metadata": {
        "colab": {
          "base_uri": "https://localhost:8080/"
        },
        "id": "k7fgacDuR4O7",
        "outputId": "90dd8be3-03c8-4b54-be59-9027daaff0ad"
      },
      "execution_count": 23,
      "outputs": [
        {
          "output_type": "stream",
          "name": "stdout",
          "text": [
            "X_train_final shape: (5590, 5000)\n",
            "X_test_final shape: (2396, 5000)\n",
            "Y_train_final shape: (5590,)\n",
            "Y_test_final shape: (2396,)\n"
          ]
        }
      ]
    },
    {
      "cell_type": "code",
      "source": [
        "from sklearn.linear_model import LogisticRegression\n",
        "from sklearn.metrics import accuracy_score, classification_report, confusion_matrix\n",
        "\n",
        "logistic_regression_model = LogisticRegression(random_state=42)\n",
        "\n",
        "logistic_regression_model.fit(X_train_final, Y_train_final)\n",
        "\n",
        "Y_pred = logistic_regression_model.predict(X_test_final)\n",
        "\n",
        "accuracy = accuracy_score(Y_test_final, Y_pred)\n",
        "print(f\"Accuracy Score: {accuracy}\")\n",
        "\n",
        "conf_matrix = confusion_matrix(Y_test_final, Y_pred)\n",
        "print(\"Confusion Matrix:\")\n",
        "print(conf_matrix)"
      ],
      "metadata": {
        "colab": {
          "base_uri": "https://localhost:8080/"
        },
        "id": "k3-OZBSwSNDf",
        "outputId": "c978329b-7a29-424f-b2cb-ef21d577d678"
      },
      "execution_count": 24,
      "outputs": [
        {
          "output_type": "stream",
          "name": "stdout",
          "text": [
            "Accuracy Score: 0.8647746243739566\n",
            "Confusion Matrix:\n",
            "[[1003  186]\n",
            " [ 138 1069]]\n"
          ]
        }
      ]
    },
    {
      "cell_type": "code",
      "source": [
        "review1 = simple_preprocessing(\"I loved this movie!\")\n",
        "review2 = simple_preprocessing(\"This movie was a bad comedy movie!\")\n",
        "\n",
        "review1_tfidf = tfidf_vectorizer.transform([review1])\n",
        "review2_tfidf = tfidf_vectorizer.transform([review2])\n",
        "\n",
        "sentiment1 = logistic_regression_model.predict(review1_tfidf)[0]\n",
        "sentiment2 = logistic_regression_model.predict(review2_tfidf)[0]\n",
        "\n",
        "print(f\"Review 1 Sentiment: {'Positive' if sentiment1 == 1 else 'Negative'}\")\n",
        "print(f\"Review 2 Sentiment: {'Positive' if sentiment2 == 1 else 'Negative'}\")"
      ],
      "metadata": {
        "colab": {
          "base_uri": "https://localhost:8080/"
        },
        "id": "GytkwRmOSa4T",
        "outputId": "8e2b478d-dc7a-46b4-ffc3-4030c185a149"
      },
      "execution_count": 25,
      "outputs": [
        {
          "output_type": "stream",
          "name": "stdout",
          "text": [
            "Review 1 Sentiment: Positive\n",
            "Review 2 Sentiment: Negative\n"
          ]
        }
      ]
    }
  ]
}