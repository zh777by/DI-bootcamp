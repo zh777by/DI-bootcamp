{
 "cells": [
  {
   "cell_type": "code",
   "execution_count": 1,
   "metadata": {},
   "outputs": [],
   "source": [
    "from selenium import webdriver\n",
    "from selenium.webdriver.common.keys import Keys\n",
    "from selenium.webdriver.common.by import By\n",
    "from selenium.webdriver.support.ui import WebDriverWait\n",
    "from selenium.webdriver.support import expected_conditions as EC\n",
    "import pprint  # To tidy up\n",
    "\n",
    "options = webdriver.ChromeOptions()\n",
    "#options.add_argument('--headless')  # Run Chrome in headless mode\n",
    "options.add_argument(\"--no-sandbox\")  # Bypass OS security model\n",
    "options.add_argument(\"--disable-dev-shm-usage\")  # Overcome limited resource problems\n",
    "driver = webdriver.Chrome(options=options)"
   ]
  },
  {
   "cell_type": "code",
   "execution_count": null,
   "metadata": {},
   "outputs": [],
   "source": [
    "url = \"https://www.rottentomatoes.com/browse/movies_in_theaters/critics:certified_fresh\"\n",
    "driver.get(url)\n",
    "driver.implicitly_wait(10)"
   ]
  },
  {
   "cell_type": "code",
   "execution_count": 43,
   "metadata": {},
   "outputs": [],
   "source": [
    "from selenium import webdriver\n",
    "from bs4 import BeautifulSoup\n",
    "import pandas as pd\n",
    "\n",
    "# Set up the WebDriver\n",
    "options = webdriver.ChromeOptions()\n",
    "options.add_argument('--headless')  # Run Chrome in headless mode\n",
    "options.add_argument(\"--no-sandbox\")  # Bypass OS security model\n",
    "options.add_argument(\"--disable-dev-shm-usage\")  # Overcome limited resource problems\n",
    "driver = webdriver.Chrome(options=options)\n",
    "\n",
    "url = \"https://www.rottentomatoes.com/browse/movies_in_theaters/critics:certified_fresh\"\n",
    "driver.get(url)\n",
    "\n",
    "wait = WebDriverWait(driver, 10)\n",
    "wait.until(EC.presence_of_element_located((By.XPATH, \"//div[@class='discovery-grids-container']\")))\n",
    "html_content = driver.page_source\n",
    "\n",
    "soup = BeautifulSoup(html_content, 'html.parser')\n",
    "\n",
    "movie_titles = [title.text.strip() for title in soup.find_all('div', class_='js-tile-link')]\n",
    "movie_scores = [score.text.strip() for score in soup.find_all('span', class_='percentage')]\n",
    "release_dates = [date.text.strip() for date in soup.find_all('span', class_='discovery-media-list-item-start-date')]\n",
    "\n",
    "# Print or process the extracted information as needed\n",
    "for title, score, date in zip(movie_titles, movie_scores, release_dates):\n",
    "    print(f\"Title: {title}, Score: {score}, Release Date: {date}\")\n",
    "\n",
    "# Close the browser window\n",
    "driver.quit()\n"
   ]
  }
 ],
 "metadata": {
  "kernelspec": {
   "display_name": "Python 3",
   "language": "python",
   "name": "python3"
  },
  "language_info": {
   "codemirror_mode": {
    "name": "ipython",
    "version": 3
   },
   "file_extension": ".py",
   "mimetype": "text/x-python",
   "name": "python",
   "nbconvert_exporter": "python",
   "pygments_lexer": "ipython3",
   "version": "3.12.0"
  }
 },
 "nbformat": 4,
 "nbformat_minor": 2
}
