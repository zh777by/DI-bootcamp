{
  "cells": [
    {
      "cell_type": "markdown",
      "id": "eb868ef8",
      "metadata": {
        "id": "eb868ef8"
      },
      "source": [
        "## 5. Reshaping and Transposing Arrays\n",
        "\n",
        "### Reshaping Arrays for Analysis\n",
        "\n",
        "Reshaping is an important operation in data analysis as it allows you to reorganize data in a way that is suitable for analysis.\n",
        "\n",
        "![Illsutration of reshaping of numpy arrays](https://drive.google.com/uc?id=1QaQslClsGIIAXxZTDogxctKUkXF-uDXw)\n",
        "\n"
      ]
    },
    {
      "cell_type": "code",
      "execution_count": 2,
      "id": "16c30694",
      "metadata": {
        "colab": {
          "base_uri": "https://localhost:8080/"
        },
        "id": "16c30694",
        "outputId": "f7cc1f44-3afd-4528-e4bb-a28089d575cd"
      },
      "outputs": [
        {
          "name": "stdout",
          "output_type": "stream",
          "text": [
            "Reshaped to 3x3:\n",
            " [[1 2 3]\n",
            " [4 5 6]\n",
            " [7 8 9]]\n"
          ]
        }
      ],
      "source": [
        "import numpy as np\n",
        "\n",
        "# Creating a 1D array\n",
        "array = np.arange(1, 10)  # Array of numbers from 1 to 9\n",
        "\n",
        "# Reshaping to a 3x3 matrix\n",
        "reshaped_array = array.reshape(3, 3)\n",
        "print(\"Reshaped to 3x3:\\n\", reshaped_array)"
      ]
    },
    {
      "cell_type": "markdown",
      "id": "4c3d78e5",
      "metadata": {
        "id": "4c3d78e5"
      },
      "source": [
        "\n",
        "\n",
        "### Transposing for Data Rearrangement\n",
        "\n",
        "Transposing is another useful operation in NumPy which changes the rows into columns and vice versa, which can be crucial for certain data operations.\n",
        "\n",
        "![Transposing matrix](https://drive.google.com/uc?id=17WuxSg9_cbRLRAjQliHdoFkX1zVA7hs3)\n"
      ]
    },
    {
      "cell_type": "code",
      "execution_count": null,
      "id": "9dc89cad",
      "metadata": {
        "id": "9dc89cad"
      },
      "outputs": [],
      "source": [
        "# Transposing the reshaped array\n",
        "transposed_array = reshaped_array.T\n",
        "print(\"Transposed array:\\n\", transposed_array)"
      ]
    },
    {
      "cell_type": "markdown",
      "id": "d8a7c97f",
      "metadata": {
        "id": "d8a7c97f"
      },
      "source": [
        "\n",
        "## Exercise: Reshaping and Transposing Arrays\n",
        "\n",
        "1. **Reshape Array**: Create a 1D array with 12 elements and reshape it to a 4x3 matrix. Then reshape it to a 2x6 matrix.\n",
        "2. **Transpose Matrix**: Transpose the 2x6 matrix you created in the previous step.\n",
        "3. **Combine Reshaping and Transposing**: Create a 3x4 matrix, with numbers 1-12, transpose it, and then reshape the transposed matrix to a 1D array. Reshape the original array to a 1D array and compare the outputs.\n",
        "\n",
        "---\n",
        "### In-depth Topic: Importance of Reshaping and Transposing\n",
        "\n",
        "1. **Data Compatibility**: Many data analysis libraries and functions expect data in a specific shape. Reshaping ensures compatibility and prevents errors. For instance, a machine learning model might require input data as a 2D array, where each row is a sample and each column is a feature.\n",
        "\n",
        "   **Example**:\n",
        "   "
      ]
    },
    {
      "cell_type": "code",
      "execution_count": 3,
      "id": "1512edce",
      "metadata": {
        "id": "1512edce"
      },
      "outputs": [],
      "source": [
        "# Reshaping data for machine learning model\n",
        "data = np.arange(1, 101).reshape(20, 5)  # 20 samples, 5 features each"
      ]
    },
    {
      "cell_type": "markdown",
      "id": "067446ba",
      "metadata": {
        "id": "067446ba"
      },
      "source": [
        "\n",
        "\n",
        "2. **Data Visualization**: Certain types of visualizations require data in a specific format. Reshaping and transposing can be crucial for accurately representing data in visual form.\n",
        "\n",
        "Data Visualization with Heatmaps:\n",
        "When creating heatmaps, the shape of the data matrix can significantly affect the visual output. Reshaping allows for different visual interpretations of the same data.\n",
        "\n",
        "   **Example**:\n",
        "   "
      ]
    },
    {
      "cell_type": "code",
      "execution_count": 4,
      "id": "4b66e3aa",
      "metadata": {
        "id": "4b66e3aa"
      },
      "outputs": [],
      "source": [
        "# Preparing data for heatmap visualization\n",
        "matrix = np.random.rand(10, 10)\n",
        "reshaped_matrix = matrix.reshape(5, 20)  # Reshaping for a different visual representation"
      ]
    },
    {
      "cell_type": "markdown",
      "id": "bbef2951",
      "metadata": {
        "id": "bbef2951"
      },
      "source": [
        "\n",
        "\n",
        "3. **Mathematical Operations**: In linear algebra, operations like matrix multiplication require specific array shapes. Transposing arrays can make such operations feasible.\n",
        "\n",
        "   **Example**:\n",
        "   "
      ]
    },
    {
      "cell_type": "code",
      "execution_count": 5,
      "id": "9177825e",
      "metadata": {
        "id": "9177825e"
      },
      "outputs": [],
      "source": [
        "# Transposing for matrix multiplication\n",
        "A = np.array([[1, 2], [3, 4]])\n",
        "B = np.array([5, 6])\n",
        "product = A.dot(B.transpose())  # Transposing B to make multiplication possible"
      ]
    },
    {
      "cell_type": "markdown",
      "id": "017d6e6e",
      "metadata": {
        "id": "017d6e6e"
      },
      "source": [
        "\n",
        "\n",
        "### Impact on Statistical Computations\n",
        "\n",
        "1. **Aggregation**: Reshaping can group data in ways that make aggregation operations (like sum, mean, etc.) more meaningful and aligned with the analysis goals.\n",
        "\n",
        "   **Example**:\n",
        "   "
      ]
    },
    {
      "cell_type": "code",
      "execution_count": 6,
      "id": "58ec54bc",
      "metadata": {
        "id": "58ec54bc"
      },
      "outputs": [],
      "source": [
        "# Aggregating data after reshaping\n",
        "data = np.random.rand(6, 2)\n",
        "reshaped_data = data.reshape(3, 4)\n",
        "mean_values = np.mean(reshaped_data, axis=1)  # Mean of each reshaped group"
      ]
    },
    {
      "cell_type": "markdown",
      "id": "LUnxLG_LFMa_",
      "metadata": {
        "id": "LUnxLG_LFMa_"
      },
      "source": [
        "Meaningful Aggregation:\n",
        "Reshaping can group data in ways that allow for more meaningful aggregation, aligning with specific analytical objectives."
      ]
    },
    {
      "cell_type": "code",
      "execution_count": 7,
      "id": "DXq3KZXlFPM4",
      "metadata": {
        "colab": {
          "base_uri": "https://localhost:8080/"
        },
        "id": "DXq3KZXlFPM4",
        "outputId": "1dc02d77-63bf-46e1-88bc-10addbd27f9e"
      },
      "outputs": [
        {
          "name": "stdout",
          "output_type": "stream",
          "text": [
            "[[5.61422340e-01 1.07500276e-01]\n",
            " [6.02963617e-01 5.52071204e-01]\n",
            " [4.96738872e-01 3.72941404e-01]\n",
            " [8.80797458e-02 3.77236142e-03]\n",
            " [6.37864019e-01 3.55192567e-01]\n",
            " [5.09390102e-04 4.24153273e-01]\n",
            " [6.12734131e-01 8.03785843e-02]\n",
            " [9.05111687e-01 5.84313704e-01]] [[5.61422340e-01 1.07500276e-01 6.02963617e-01 5.52071204e-01]\n",
            " [4.96738872e-01 3.72941404e-01 8.80797458e-02 3.77236142e-03]\n",
            " [6.37864019e-01 3.55192567e-01 5.09390102e-04 4.24153273e-01]\n",
            " [6.12734131e-01 8.03785843e-02 9.05111687e-01 5.84313704e-01]] [0.45598936 0.2403831  0.35442981 0.54563453]\n"
          ]
        }
      ],
      "source": [
        "# Aggregating data in groups after reshaping\n",
        "data = np.random.rand(8, 2)  # 8 pairs of data points\n",
        "reshaped_data = data.reshape(4, 4)  # Reshape to 4 groups of 4 data points\n",
        "group_means = np.mean(reshaped_data, axis=1)  # Calculate mean of each group\n",
        "# This reshaping groups data for more meaningful statistical aggregation\n",
        "print(data, reshaped_data, group_means)"
      ]
    },
    {
      "cell_type": "markdown",
      "id": "a6190565",
      "metadata": {
        "id": "a6190565"
      },
      "source": [
        "\n",
        "\n",
        "2. **Feature Selection**: In statistical modeling, reshaping may help in organizing features and observations in a way that makes feature selection processes more efficient.\n",
        "\n",
        "   **Example**:\n",
        "   "
      ]
    },
    {
      "cell_type": "code",
      "execution_count": null,
      "id": "d495bcb2",
      "metadata": {
        "id": "d495bcb2"
      },
      "outputs": [],
      "source": [
        "# Organizing data for feature selection\n",
        "data = np.random.rand(100, 10)  # 100 observations, 10 features\n",
        "reshaped_data = data.reshape(100, 5, 2)  # Grouping features for analysis"
      ]
    },
    {
      "cell_type": "markdown",
      "id": "590d6e28",
      "metadata": {
        "id": "590d6e28"
      },
      "source": [
        "\n",
        "\n",
        "3. **Time-Series Analysis**: Reshaping is particularly important in time-series data, where the sequence of data points is crucial. Reshaping can convert flat data into a time-series format.\n",
        "\n",
        "   **Example**:\n",
        "   "
      ]
    },
    {
      "cell_type": "code",
      "execution_count": null,
      "id": "6264d70b",
      "metadata": {
        "id": "6264d70b"
      },
      "outputs": [],
      "source": [
        "# Reshaping data for time-series analysis\n",
        "time_series_data = np.random.rand(365)  # Daily data for a year\n",
        "reshaped_for_analysis = time_series_data.reshape(52, 7)  # Weekly data, 7 days a week"
      ]
    }
  ],
  "metadata": {
    "colab": {
      "provenance": []
    },
    "kernelspec": {
      "display_name": "Python 3",
      "name": "python3"
    },
    "language_info": {
      "codemirror_mode": {
        "name": "ipython",
        "version": 3
      },
      "file_extension": ".py",
      "mimetype": "text/x-python",
      "name": "python",
      "nbconvert_exporter": "python",
      "pygments_lexer": "ipython3",
      "version": "3.12.0"
    }
  },
  "nbformat": 4,
  "nbformat_minor": 5
}
